{
 "cells": [
  {
   "cell_type": "markdown",
   "metadata": {
    "collapsed": true
   },
   "source": [
    "# Artificial Intelligence Nanodegree\n",
    "## Machine Translation \n",
    "\n",
    "- **Preprocess** - Convert text to sequence of integers.\n",
    "- **Models** - Create models which accepts a sequence of integers as input and returns a probability distribution over possible translations. \n",
    "- **Prediction** Run the model on English text."
   ]
  },
  {
   "cell_type": "code",
   "execution_count": 1,
   "metadata": {},
   "outputs": [],
   "source": [
    "%load_ext autoreload\n",
    "%aimport helper, tests\n",
    "%autoreload 1"
   ]
  },
  {
   "cell_type": "code",
   "execution_count": 2,
   "metadata": {},
   "outputs": [
    {
     "name": "stderr",
     "output_type": "stream",
     "text": [
      "Using TensorFlow backend.\n"
     ]
    }
   ],
   "source": [
    "import collections\n",
    "\n",
    "import helper\n",
    "import numpy as np\n",
    "import project_tests as tests\n",
    "\n",
    "from keras.preprocessing.text import Tokenizer\n",
    "from keras.preprocessing.sequence import pad_sequences\n",
    "from keras.models import Model, Sequential\n",
    "from keras.layers import GRU, Input, Dense, TimeDistributed, Activation, RepeatVector \n",
    "from keras.layers import Bidirectional, Dropout \n",
    "from keras.layers.embeddings import Embedding\n",
    "from keras.optimizers import Adam\n",
    "from keras.losses import sparse_categorical_crossentropy\n",
    "from keras.layers.embeddings import Embedding\n",
    "from keras.layers import LSTM"
   ]
  },
  {
   "cell_type": "code",
   "execution_count": 3,
   "metadata": {},
   "outputs": [
    {
     "name": "stdout",
     "output_type": "stream",
     "text": [
      "[name: \"/cpu:0\"\n",
      "device_type: \"CPU\"\n",
      "memory_limit: 268435456\n",
      "locality {\n",
      "}\n",
      "incarnation: 9579979678650389834\n",
      ", name: \"/gpu:0\"\n",
      "device_type: \"GPU\"\n",
      "memory_limit: 357433344\n",
      "locality {\n",
      "  bus_id: 1\n",
      "}\n",
      "incarnation: 12965914988060449339\n",
      "physical_device_desc: \"device: 0, name: Tesla K80, pci bus id: 0000:00:04.0\"\n",
      "]\n"
     ]
    }
   ],
   "source": [
    "from tensorflow.python.client import device_lib\n",
    "print(device_lib.list_local_devices())"
   ]
  },
  {
   "cell_type": "markdown",
   "metadata": {},
   "source": [
    "## Dataset\n",
    "We begin by investigating the dataset that will be used to train and evaluate your pipeline.  The most common datasets used for machine translation are from [WMT](http://www.statmt.org/).  However, that will take a long time to train a neural network on.  We'll be using a dataset we created for this project that contains a small vocabulary.  You'll be able to train your model in a reasonable time with this dataset.\n",
    "### Load Data\n",
    "The data is located in `data/small_vocab_en` and `data/small_vocab_fr`. The `small_vocab_en` file contains English sentences with their French translations in the `small_vocab_fr` file. Load the English and French data from these files from running the cell below."
   ]
  },
  {
   "cell_type": "code",
   "execution_count": 4,
   "metadata": {},
   "outputs": [
    {
     "name": "stdout",
     "output_type": "stream",
     "text": [
      "Dataset Loaded\n"
     ]
    }
   ],
   "source": [
    "# Load English data\n",
    "english_sentences = helper.load_data('data/small_vocab_en')\n",
    "# Load French data\n",
    "french_sentences = helper.load_data('data/small_vocab_fr')\n",
    "\n",
    "print('Dataset Loaded')"
   ]
  },
  {
   "cell_type": "markdown",
   "metadata": {},
   "source": [
    "### Files\n",
    "Each line in `small_vocab_en` contains an English sentence with the respective translation in each line of `small_vocab_fr`.  View the first two lines from each file."
   ]
  },
  {
   "cell_type": "code",
   "execution_count": 5,
   "metadata": {},
   "outputs": [
    {
     "name": "stdout",
     "output_type": "stream",
     "text": [
      "small_vocab_en Line 1:  new jersey is sometimes quiet during autumn , and it is snowy in april .\n",
      "small_vocab_fr Line 1:  new jersey est parfois calme pendant l' automne , et il est neigeux en avril .\n",
      "small_vocab_en Line 2:  the united states is usually chilly during july , and it is usually freezing in november .\n",
      "small_vocab_fr Line 2:  les états-unis est généralement froid en juillet , et il gèle habituellement en novembre .\n",
      "small_vocab_en Line 3:  california is usually quiet during march , and it is usually hot in june .\n",
      "small_vocab_fr Line 3:  california est généralement calme en mars , et il est généralement chaud en juin .\n",
      "small_vocab_en Line 4:  the united states is sometimes mild during june , and it is cold in september .\n",
      "small_vocab_fr Line 4:  les états-unis est parfois légère en juin , et il fait froid en septembre .\n",
      "small_vocab_en Line 5:  your least liked fruit is the grape , but my least liked is the apple .\n",
      "small_vocab_fr Line 5:  votre moins aimé fruit est le raisin , mais mon moins aimé est la pomme .\n"
     ]
    }
   ],
   "source": [
    "for sample_i in range(5):\n",
    "    print('small_vocab_en Line {}:  {}'.format(sample_i + 1, english_sentences[sample_i]))\n",
    "    print('small_vocab_fr Line {}:  {}'.format(sample_i + 1, french_sentences[sample_i]))"
   ]
  },
  {
   "cell_type": "markdown",
   "metadata": {},
   "source": [
    "### Vocabulary\n",
    "The complexity of the problem is determined by the complexity of the vocabulary.  A more complex vocabulary is a more complex problem.  Let's look at the complexity of the dataset we'll be working with."
   ]
  },
  {
   "cell_type": "code",
   "execution_count": 7,
   "metadata": {},
   "outputs": [
    {
     "name": "stdout",
     "output_type": "stream",
     "text": [
      "1823250 English words.\n",
      "227 unique English words.\n",
      "10 Most common words in the English dataset:\n",
      "\"is\" \",\" \".\" \"in\" \"it\" \"during\" \"the\" \"but\" \"and\" \"sometimes\"\n",
      "\n",
      "1961295 French words.\n",
      "355 unique French words.\n",
      "10 Most common words in the French dataset:\n",
      "\"est\" \".\" \",\" \"en\" \"il\" \"les\" \"mais\" \"et\" \"la\" \"parfois\"\n"
     ]
    }
   ],
   "source": [
    "english_words_counter = collections.Counter([word for sentence in english_sentences for word in sentence.split()])\n",
    "french_words_counter = collections.Counter([word for sentence in french_sentences for word in sentence.split()])\n",
    "\n",
    "print('{} English words.'.format(len([word for sentence in english_sentences for word in sentence.split()])))\n",
    "print('{} unique English words.'.format(len(english_words_counter)))\n",
    "print('10 Most common words in the English dataset:')\n",
    "print('\"' + '\" \"'.join(list(zip(*english_words_counter.most_common(10)))[0]) + '\"')\n",
    "print()\n",
    "print('{} French words.'.format(len([word for sentence in french_sentences for word in sentence.split()])))\n",
    "print('{} unique French words.'.format(len(french_words_counter)))\n",
    "print('10 Most common words in the French dataset:')\n",
    "print('\"' + '\" \"'.join(list(zip(*french_words_counter.most_common(10)))[0]) + '\"')"
   ]
  },
  {
   "cell_type": "markdown",
   "metadata": {},
   "source": [
    "For this project, i'll convert the text into sequences of integers using the following preprocess methods:\n",
    "\n",
    "1. Tokenize the words into ids\n",
    "2. Add padding to make all the sequences the same length.\n",
    "\n",
    "Time to start preprocessing the data...\n",
    "### Tokenize (IMPLEMENTATION)\n",
    "For a neural network to predict on text data, it first has to be turned into data it can understand. Text data like \"dog\" is a sequence of ASCII character encodings.  Since a neural network is a series of multiplication and addition operations, the input data needs to be number(s).\n",
    "\n",
    "We can turn each character into a number or each word into a number.  These are called character and word ids, respectively.  Character ids are used for character level models that generate text predictions for each character.  A word level model uses word ids that generate text predictions for each word.  Word level models tend to learn better, since they are lower in complexity, so we'll use those."
   ]
  },
  {
   "cell_type": "code",
   "execution_count": 8,
   "metadata": {},
   "outputs": [
    {
     "name": "stdout",
     "output_type": "stream",
     "text": [
      "{'the': 1, 'quick': 2, 'a': 3, 'brown': 4, 'fox': 5, 'jumps': 6, 'over': 7, 'lazy': 8, 'dog': 9, 'by': 10, 'jove': 11, 'my': 12, 'study': 13, 'of': 14, 'lexicography': 15, 'won': 16, 'prize': 17, 'this': 18, 'is': 19, 'short': 20, 'sentence': 21}\n",
      "\n",
      "Sequence 1 in x\n",
      "  Input:  The quick brown fox jumps over the lazy dog .\n",
      "  Output: [1, 2, 4, 5, 6, 7, 1, 8, 9]\n",
      "Sequence 2 in x\n",
      "  Input:  By Jove , my quick study of lexicography won a prize .\n",
      "  Output: [10, 11, 12, 2, 13, 14, 15, 16, 3, 17]\n",
      "Sequence 3 in x\n",
      "  Input:  This is a short sentence .\n",
      "  Output: [18, 19, 3, 20, 21]\n"
     ]
    }
   ],
   "source": [
    "def tokenize(x):\n",
    "    \"\"\"\n",
    "    Tokenize x\n",
    "    :param x: List of sentences/strings to be tokenized\n",
    "    :return: Tuple of (tokenized x data, tokenizer used to tokenize x)\n",
    "    \"\"\"\n",
    "    \n",
    "    #x_tk = Tokenizer(char_level=True)\n",
    "    x_tk = Tokenizer()\n",
    "    x_tk.fit_on_texts(x)\n",
    "    \n",
    "    return x_tk.texts_to_sequences(x), x_tk\n",
    "\n",
    "tests.test_tokenize(tokenize)\n",
    "\n",
    "# Tokenize Example output\n",
    "text_sentences = [\n",
    "    'The quick brown fox jumps over the lazy dog .',\n",
    "    'By Jove , my quick study of lexicography won a prize .',\n",
    "    'This is a short sentence .']\n",
    "text_tokenized, text_tokenizer = tokenize(text_sentences)\n",
    "print(text_tokenizer.word_index)\n",
    "print()\n",
    "for sample_i, (sent, token_sent) in enumerate(zip(text_sentences, text_tokenized)):\n",
    "    print('Sequence {} in x'.format(sample_i + 1))\n",
    "    print('  Input:  {}'.format(sent))\n",
    "    print('  Output: {}'.format(token_sent))"
   ]
  },
  {
   "cell_type": "markdown",
   "metadata": {},
   "source": [
    "### Padding (IMPLEMENTATION)\n",
    "When batching the sequence of word ids together, each sequence needs to be the same length.  Since sentences are dynamic in length, we can add padding to the end of the sequences to make them the same length.\n",
    "\n",
    "Make sure all the English sequences have the same length and all the French sequences have the same length by adding padding to the **end** of each sequence using Keras's [`pad_sequences`](https://keras.io/preprocessing/sequence/#pad_sequences) function."
   ]
  },
  {
   "cell_type": "code",
   "execution_count": 9,
   "metadata": {},
   "outputs": [
    {
     "name": "stdout",
     "output_type": "stream",
     "text": [
      "Sequence 1 in x\n",
      "  Input:  [1 2 4 5 6 7 1 8 9]\n",
      "  Output: [1 2 4 5 6 7 1 8 9 0]\n",
      "Sequence 2 in x\n",
      "  Input:  [10 11 12  2 13 14 15 16  3 17]\n",
      "  Output: [10 11 12  2 13 14 15 16  3 17]\n",
      "Sequence 3 in x\n",
      "  Input:  [18 19  3 20 21]\n",
      "  Output: [18 19  3 20 21  0  0  0  0  0]\n"
     ]
    }
   ],
   "source": [
    "def pad(x, length=None):\n",
    "    \"\"\"\n",
    "    Pad x\n",
    "    :param x: List of sequences.\n",
    "    :param length: Length to pad the sequence to.  If None, use length of longest sequence in x.\n",
    "    :return: Padded numpy array of sequences\n",
    "    \"\"\"\n",
    "    \n",
    "    if length is None:\n",
    "        length = max([len(sentence) for sentence in x])\n",
    "    return pad_sequences(x, maxlen=length, truncating='post', padding='post')\n",
    "\n",
    "tests.test_pad(pad)\n",
    "\n",
    "# Pad Tokenized output\n",
    "test_pad = pad(text_tokenized)\n",
    "for sample_i, (token_sent, pad_sent) in enumerate(zip(text_tokenized, test_pad)):\n",
    "    print('Sequence {} in x'.format(sample_i + 1))\n",
    "    print('  Input:  {}'.format(np.array(token_sent)))\n",
    "    print('  Output: {}'.format(pad_sent))"
   ]
  },
  {
   "cell_type": "markdown",
   "metadata": {},
   "source": [
    "### Preprocess Pipeline\n",
    "Your focus for this project is to build neural network architecture, so we won't ask you to create a preprocess pipeline.  Instead, we've provided you with the implementation of the `preprocess` function."
   ]
  },
  {
   "cell_type": "code",
   "execution_count": 10,
   "metadata": {},
   "outputs": [
    {
     "name": "stdout",
     "output_type": "stream",
     "text": [
      "Data Preprocessed\n",
      "Max English sentence length: 15\n",
      "Max French sentence length: 21\n",
      "English vocabulary size: 199\n",
      "French vocabulary size: 344\n"
     ]
    }
   ],
   "source": [
    "def preprocess(x, y):\n",
    "    \"\"\"\n",
    "    Preprocess x and y\n",
    "    :param x: Feature List of sentences\n",
    "    :param y: Label List of sentences\n",
    "    :return: Tuple of (Preprocessed x, Preprocessed y, x tokenizer, y tokenizer)\n",
    "    \"\"\"\n",
    "    preprocess_x, x_tk = tokenize(x)\n",
    "    preprocess_y, y_tk = tokenize(y)\n",
    "    \n",
    "    preprocess_x = pad(preprocess_x)\n",
    "    preprocess_y = pad(preprocess_y)\n",
    "    \n",
    "    # Keras's sparse_categorical_crossentropy function requires the labels to be in 3 dimensions\n",
    "    preprocess_y = preprocess_y.reshape(*preprocess_y.shape, 1)\n",
    "\n",
    "    return preprocess_x, preprocess_y, x_tk, y_tk\n",
    "\n",
    "preproc_english_sentences, preproc_french_sentences, english_tokenizer, french_tokenizer =\\\n",
    "    preprocess(english_sentences, french_sentences)\n",
    "    \n",
    "max_english_sequence_length = preproc_english_sentences.shape[1]\n",
    "max_french_sequence_length = preproc_french_sentences.shape[1]\n",
    "english_vocab_size = len(english_tokenizer.word_index)\n",
    "french_vocab_size = len(french_tokenizer.word_index)\n",
    "\n",
    "print('Data Preprocessed')\n",
    "print(\"Max English sentence length:\", max_english_sequence_length)\n",
    "print(\"Max French sentence length:\", max_french_sequence_length)\n",
    "print(\"English vocabulary size:\", english_vocab_size)\n",
    "print(\"French vocabulary size:\", french_vocab_size)"
   ]
  },
  {
   "cell_type": "markdown",
   "metadata": {},
   "source": [
    "## Models\n",
    "In this section, you will experiment with various neural network architectures.\n",
    "You will begin by training four relatively simple architectures.\n",
    "- Model 1 is a simple RNN\n",
    "- Model 2 is a RNN with Embedding\n",
    "- Model 3 is a Bidirectional RNN\n",
    "- Model 4 is an optional Encoder-Decoder RNN\n",
    "\n",
    "After experimenting with the four simple architectures, you will construct a deeper architecture that is designed to outperform all four models.\n",
    "### Ids Back to Text\n",
    "The neural network will be translating the input to words ids, which isn't the final form we want.  We want the French translation.  The function `logits_to_text` will bridge the gab between the logits from the neural network to the French translation.  You'll be using this function to better understand the output of the neural network."
   ]
  },
  {
   "cell_type": "code",
   "execution_count": 11,
   "metadata": {},
   "outputs": [
    {
     "name": "stdout",
     "output_type": "stream",
     "text": [
      "`logits_to_text` function loaded.\n"
     ]
    }
   ],
   "source": [
    "def logits_to_text(logits, tokenizer):\n",
    "    \"\"\"\n",
    "    Turn logits from a neural network into text using the tokenizer\n",
    "    :param logits: Logits from a neural network\n",
    "    :param tokenizer: Keras Tokenizer fit on the labels\n",
    "    :return: String that represents the text of the logits\n",
    "    \"\"\"\n",
    "    index_to_words = {id: word for word, id in tokenizer.word_index.items()}\n",
    "    index_to_words[0] = '<PAD>'\n",
    "\n",
    "    return ' '.join([index_to_words[prediction] for prediction in np.argmax(logits, 1)])\n",
    "\n",
    "print('`logits_to_text` function loaded.')"
   ]
  },
  {
   "cell_type": "markdown",
   "metadata": {},
   "source": [
    "### Model 1: RNN (IMPLEMENTATION)\n",
    "![RNN](images/rnn.png)\n",
    "A basic RNN model is a good baseline for sequence data.  In this model, you'll build a RNN that translates English to French."
   ]
  },
  {
   "cell_type": "markdown",
   "metadata": {},
   "source": [
    "## Model Parameters "
   ]
  },
  {
   "cell_type": "code",
   "execution_count": 41,
   "metadata": {},
   "outputs": [
    {
     "name": "stdout",
     "output_type": "stream",
     "text": [
      "english_sentences, shape:  (137861, 15)\n",
      "french_sentences, shape:  (137861, 21, 1)\n",
      "output sequence, shape:  21\n"
     ]
    }
   ],
   "source": [
    "# Shapes: english, french and output sentences\n",
    "print(\"english_sentences, shape: \", preproc_english_sentences.shape)\n",
    "print(\"french_sentences, shape: \", preproc_french_sentences.shape)\n",
    "print('output sequence, shape: ', preproc_french_sentences.shape[1])\n",
    "# The output is based in french sentences because is the target language"
   ]
  },
  {
   "cell_type": "code",
   "execution_count": 42,
   "metadata": {},
   "outputs": [
    {
     "name": "stdout",
     "output_type": "stream",
     "text": [
      "english vocab size:  199\n",
      "french vocab size:  344\n"
     ]
    }
   ],
   "source": [
    "# Lenght of vocabulary's\n",
    "print(\"english vocab size: \", len(english_tokenizer.word_index))\n",
    "print(\"french vocab size: \", len(french_tokenizer.word_index))"
   ]
  },
  {
   "cell_type": "code",
   "execution_count": 43,
   "metadata": {},
   "outputs": [
    {
     "name": "stdout",
     "output_type": "stream",
     "text": [
      "(137861, 21, 1)\n"
     ]
    }
   ],
   "source": [
    "# Reshaping the input to work with a basic RNN\n",
    "tmp_x = pad(preproc_english_sentences, max_french_sequence_length)\n",
    "tmp_x = tmp_x.reshape((-1, preproc_french_sentences.shape[-2], 1))\n",
    "\n",
    "# Input shape of simple RNN\n",
    "print(tmp_x.shape)"
   ]
  },
  {
   "cell_type": "markdown",
   "metadata": {},
   "source": [
    "## 1. Simple Model RNN"
   ]
  },
  {
   "cell_type": "code",
   "execution_count": 44,
   "metadata": {},
   "outputs": [],
   "source": [
    "def simple_model(input_shape, output_sequence_length, english_vocab_size, french_vocab_size):\n",
    "    \"\"\"\n",
    "    Build and train a basic RNN on x and y\n",
    "    :param input_shape: Tuple of input shape\n",
    "    :param output_sequence_length: Length of output sequence\n",
    "    :param english_vocab_size: Number of unique English words in the dataset\n",
    "    :param french_vocab_size: Number of unique French words in the dataset\n",
    "    :return: Keras model built, but not trained\n",
    "    \"\"\"\n",
    "    # Build the layers\n",
    "    learning_rate = 0.01\n",
    "    \n",
    "    \n",
    "    model = Sequential()\n",
    "    \n",
    "    # input\n",
    "    model.add(GRU(128, \n",
    "                  dropout = 0.2,\n",
    "                  input_shape = input_shape[1:], \n",
    "                  return_sequences=True))\n",
    "    \n",
    "    # output\n",
    "    model.add(TimeDistributed(Dense(french_vocab_size, \n",
    "                                    activation='softmax')))\n",
    "    \n",
    "    # Compile model\n",
    "    model.compile(loss = sparse_categorical_crossentropy,\n",
    "                  optimizer = Adam(learning_rate),\n",
    "                  metrics=['accuracy'])\n",
    "    \n",
    "    return model\n",
    "\n",
    "tests.test_simple_model(simple_model)"
   ]
  },
  {
   "cell_type": "code",
   "execution_count": 45,
   "metadata": {},
   "outputs": [
    {
     "name": "stdout",
     "output_type": "stream",
     "text": [
      "Resume Model:\n",
      "_________________________________________________________________\n",
      "Layer (type)                 Output Shape              Param #   \n",
      "=================================================================\n",
      "gru_24 (GRU)                 (None, 21, 128)           49920     \n",
      "_________________________________________________________________\n",
      "time_distributed_24 (TimeDis (None, 21, 344)           44376     \n",
      "=================================================================\n",
      "Total params: 94,296\n",
      "Trainable params: 94,296\n",
      "Non-trainable params: 0\n",
      "_________________________________________________________________\n",
      "None\n",
      "Train on 110288 samples, validate on 27573 samples\n",
      "Epoch 1/10\n",
      "110288/110288 [==============================] - 10s 93us/step - loss: 2.0835 - acc: 0.5359 - val_loss: nan - val_acc: 0.5885\n",
      "Epoch 2/10\n",
      "110288/110288 [==============================] - 8s 69us/step - loss: 1.4162 - acc: 0.6166 - val_loss: nan - val_acc: 0.5790\n",
      "Epoch 3/10\n",
      "110288/110288 [==============================] - 8s 68us/step - loss: 1.2728 - acc: 0.6378 - val_loss: nan - val_acc: 0.5731\n",
      "Epoch 4/10\n",
      "110288/110288 [==============================] - 8s 68us/step - loss: 1.1972 - acc: 0.6492 - val_loss: nan - val_acc: 0.5680\n",
      "Epoch 5/10\n",
      "110288/110288 [==============================] - 8s 69us/step - loss: 1.1488 - acc: 0.6563 - val_loss: nan - val_acc: 0.5703\n",
      "Epoch 6/10\n",
      "110288/110288 [==============================] - 8s 68us/step - loss: 1.1134 - acc: 0.6619 - val_loss: nan - val_acc: 0.5637\n",
      "Epoch 7/10\n",
      "110288/110288 [==============================] - 8s 69us/step - loss: 1.0909 - acc: 0.6646 - val_loss: nan - val_acc: 0.5637\n",
      "Epoch 8/10\n",
      "110288/110288 [==============================] - 7s 68us/step - loss: 1.0689 - acc: 0.6682 - val_loss: nan - val_acc: 0.5555\n",
      "Epoch 9/10\n",
      "110288/110288 [==============================] - 8s 68us/step - loss: 1.0545 - acc: 0.6708 - val_loss: nan - val_acc: 0.5598\n",
      "Epoch 10/10\n",
      "110288/110288 [==============================] - 8s 68us/step - loss: 1.0379 - acc: 0.6733 - val_loss: nan - val_acc: 0.5471\n"
     ]
    },
    {
     "data": {
      "text/plain": [
       "<keras.callbacks.History at 0x7f22d29ccc18>"
      ]
     },
     "execution_count": 45,
     "metadata": {},
     "output_type": "execute_result"
    }
   ],
   "source": [
    "# Train the neural network\n",
    "simple_rnn_model = simple_model(tmp_x.shape,\n",
    "                                max_french_sequence_length,\n",
    "                                english_vocab_size,\n",
    "                                french_vocab_size)\n",
    "# Watch Model\n",
    "print(\"Resume Model:\")\n",
    "print(simple_rnn_model.summary())\n",
    "\n",
    "simple_rnn_model.fit(tmp_x, \n",
    "                     preproc_french_sentences, \n",
    "                     batch_size = 1024, \n",
    "                     epochs = 10, \n",
    "                     validation_split = 0.2)"
   ]
  },
  {
   "cell_type": "code",
   "execution_count": 46,
   "metadata": {},
   "outputs": [
    {
     "name": "stdout",
     "output_type": "stream",
     "text": [
      "new jersey est parfois agréable en juin mais mais mais agréable agréable agréable <PAD> <PAD> <PAD> <PAD> <PAD> <PAD> <PAD> <PAD>\n",
      "\n",
      "Correct Translation:\n",
      "[\"new jersey est parfois calme pendant l' automne , et il est neigeux en avril .\"]\n",
      "\n",
      "Original text:\n",
      "['new jersey is sometimes quiet during autumn , and it is snowy in april .']\n"
     ]
    }
   ],
   "source": [
    "# Print prediction(s)\n",
    "print(logits_to_text(simple_rnn_model.predict(tmp_x[:1])[0], \n",
    "                                              french_tokenizer))\n",
    "\n",
    "print(\"\\nCorrect Translation:\")\n",
    "print(french_sentences[:1])\n",
    "\n",
    "print(\"\\nOriginal text:\")\n",
    "print(english_sentences[:1])"
   ]
  },
  {
   "cell_type": "code",
   "execution_count": 47,
   "metadata": {},
   "outputs": [
    {
     "name": "stdout",
     "output_type": "stream",
     "text": [
      "Score accuracy:  0.546695265517\n"
     ]
    }
   ],
   "source": [
    "# Score accuracy\n",
    "score = simple_rnn_model.evaluate(tmp_x, \n",
    "                                  preproc_french_sentences, \n",
    "                                  verbose = 0)\n",
    "print(\"Score accuracy: \", score[1])"
   ]
  },
  {
   "cell_type": "markdown",
   "metadata": {},
   "source": [
    "### Model 2: Embedding (IMPLEMENTATION)"
   ]
  },
  {
   "cell_type": "markdown",
   "metadata": {},
   "source": [
    "## 2. Embedding Model"
   ]
  },
  {
   "cell_type": "code",
   "execution_count": 54,
   "metadata": {},
   "outputs": [],
   "source": [
    "def embed_model(input_shape, output_sequence_length, english_vocab_size, french_vocab_size):\n",
    "    \"\"\"\n",
    "    Build and train a RNN model using word embedding on x and y\n",
    "    :param input_shape: Tuple of input shape\n",
    "    :param output_sequence_length: Length of output sequence\n",
    "    :param english_vocab_size: Number of unique English words in the dataset\n",
    "    :param french_vocab_size: Number of unique French words in the dataset\n",
    "    :return: Keras model built, but not trained\n",
    "    \"\"\"\n",
    "    # Implement\n",
    "    learning_rate = 0.006\n",
    "    \n",
    "    model = Sequential()\n",
    "    \n",
    "    # input\n",
    "    model.add(Embedding(max(english_vocab_size, \n",
    "                            french_vocab_size),\n",
    "              128,\n",
    "              input_length = output_sequence_length))\n",
    "    \n",
    "    model.add(LSTM(128, \n",
    "                   dropout = 0.1, \n",
    "                   return_sequences = True))\n",
    "    \n",
    "    # output\n",
    "    model.add(Dense(french_vocab_size, \n",
    "                    activation = 'softmax'))\n",
    "    \n",
    "    # Compile model\n",
    "    model.compile(loss = sparse_categorical_crossentropy,\n",
    "                  optimizer = Adam(learning_rate),\n",
    "                  metrics = ['accuracy'])\n",
    "    return model\n",
    "\n",
    "tests.test_embed_model(embed_model)"
   ]
  },
  {
   "cell_type": "code",
   "execution_count": 55,
   "metadata": {},
   "outputs": [
    {
     "name": "stdout",
     "output_type": "stream",
     "text": [
      "(137861, 21)\n"
     ]
    }
   ],
   "source": [
    "# Reshape the input\n",
    "tmp_x = pad(preproc_english_sentences,\n",
    "            preproc_french_sentences.shape[1])\n",
    "\n",
    "print(tmp_x.shape)"
   ]
  },
  {
   "cell_type": "code",
   "execution_count": 56,
   "metadata": {},
   "outputs": [
    {
     "name": "stdout",
     "output_type": "stream",
     "text": [
      "Resume Model:\n",
      "_________________________________________________________________\n",
      "Layer (type)                 Output Shape              Param #   \n",
      "=================================================================\n",
      "embedding_17 (Embedding)     (None, 21, 128)           44032     \n",
      "_________________________________________________________________\n",
      "lstm_17 (LSTM)               (None, 21, 128)           131584    \n",
      "_________________________________________________________________\n",
      "dense_30 (Dense)             (None, 21, 344)           44376     \n",
      "=================================================================\n",
      "Total params: 219,992\n",
      "Trainable params: 219,992\n",
      "Non-trainable params: 0\n",
      "_________________________________________________________________\n",
      "None\n",
      "Train on 110288 samples, validate on 27573 samples\n",
      "Epoch 1/10\n",
      "110288/110288 [==============================] - 26s 235us/step - loss: 1.1084 - acc: 0.7358 - val_loss: nan - val_acc: 0.8725\n",
      "Epoch 2/10\n",
      "110288/110288 [==============================] - 23s 204us/step - loss: 0.3423 - acc: 0.8905 - val_loss: nan - val_acc: 0.9075\n",
      "Epoch 3/10\n",
      "110288/110288 [==============================] - 23s 205us/step - loss: 0.2738 - acc: 0.9101 - val_loss: nan - val_acc: 0.9190\n",
      "Epoch 4/10\n",
      "110288/110288 [==============================] - 23s 206us/step - loss: 0.2456 - acc: 0.9179 - val_loss: nan - val_acc: 0.9226\n",
      "Epoch 5/10\n",
      "110288/110288 [==============================] - 23s 206us/step - loss: 0.2302 - acc: 0.9221 - val_loss: nan - val_acc: 0.9256\n",
      "Epoch 6/10\n",
      "110288/110288 [==============================] - 23s 207us/step - loss: 0.2215 - acc: 0.9243 - val_loss: nan - val_acc: 0.9266\n",
      "Epoch 7/10\n",
      "110288/110288 [==============================] - 23s 205us/step - loss: 0.2146 - acc: 0.9263 - val_loss: nan - val_acc: 0.9292\n",
      "Epoch 8/10\n",
      "110288/110288 [==============================] - 23s 206us/step - loss: 0.2086 - acc: 0.9280 - val_loss: nan - val_acc: 0.9295\n",
      "Epoch 9/10\n",
      "110288/110288 [==============================] - 23s 205us/step - loss: 0.2061 - acc: 0.9287 - val_loss: nan - val_acc: 0.9297\n",
      "Epoch 10/10\n",
      "110288/110288 [==============================] - 23s 207us/step - loss: 0.2036 - acc: 0.9293 - val_loss: nan - val_acc: 0.9298\n"
     ]
    },
    {
     "data": {
      "text/plain": [
       "<keras.callbacks.History at 0x7f22ced1b2e8>"
      ]
     },
     "execution_count": 56,
     "metadata": {},
     "output_type": "execute_result"
    }
   ],
   "source": [
    "# Train the neural network\n",
    "embed_model_rnn = embed_model(tmp_x.shape,\n",
    "                              preproc_french_sentences.shape[1],\n",
    "                              len(english_tokenizer.word_index),\n",
    "                              len(french_tokenizer.word_index))\n",
    "\n",
    "# Watch Model\n",
    "print(\"Resume Model:\")\n",
    "print(embed_model_rnn.summary())\n",
    "\n",
    "embed_model_rnn.fit(tmp_x,\n",
    "                    preproc_french_sentences,\n",
    "                    batch_size = 256,\n",
    "                    epochs = 10,\n",
    "                    validation_split = 0.2)"
   ]
  },
  {
   "cell_type": "code",
   "execution_count": 57,
   "metadata": {},
   "outputs": [
    {
     "name": "stdout",
     "output_type": "stream",
     "text": [
      "new jersey est parfois calme en l' automne et il est neigeux en avril <PAD> <PAD> <PAD> <PAD> <PAD> <PAD> <PAD>\n",
      "\n",
      "Correct Translation:\n",
      "[\"new jersey est parfois calme pendant l' automne , et il est neigeux en avril .\"]\n",
      "\n",
      "Original text:\n",
      "['new jersey is sometimes quiet during autumn , and it is snowy in april .']\n"
     ]
    }
   ],
   "source": [
    "# Print prediction(s)\n",
    "print(logits_to_text(embed_model_rnn.predict(tmp_x[:1])[0], \n",
    "                                             french_tokenizer))\n",
    "\n",
    "print(\"\\nCorrect Translation:\")\n",
    "print(french_sentences[:1])\n",
    "\n",
    "print(\"\\nOriginal text:\")\n",
    "print(english_sentences[:1])"
   ]
  },
  {
   "cell_type": "code",
   "execution_count": 58,
   "metadata": {},
   "outputs": [
    {
     "name": "stdout",
     "output_type": "stream",
     "text": [
      "Score accuracy:  0.932364287643\n"
     ]
    }
   ],
   "source": [
    "# Score accuracy\n",
    "score = embed_model_rnn.evaluate(tmp_x, \n",
    "                                 preproc_french_sentences, \n",
    "                                 verbose = 0)\n",
    "print(\"Score accuracy: \", score[1])"
   ]
  },
  {
   "cell_type": "markdown",
   "metadata": {},
   "source": [
    "### Model 3: Bidirectional RNNs (IMPLEMENTATION)\n",
    "\n",
    "One restriction of a RNN is that it can't see the future input, only the past.  This is where bidirectional recurrent neural networks come in.  They are able to see the future data."
   ]
  },
  {
   "cell_type": "markdown",
   "metadata": {},
   "source": [
    "## 3. Bidirectional RNNs Model"
   ]
  },
  {
   "cell_type": "code",
   "execution_count": 59,
   "metadata": {},
   "outputs": [
    {
     "name": "stdout",
     "output_type": "stream",
     "text": [
      "(137861, 21, 1)\n"
     ]
    }
   ],
   "source": [
    "# Reshaping the input to work with Bidirectional RNNs Model\n",
    "tmp_x = pad(preproc_english_sentences, max_french_sequence_length)\n",
    "tmp_x = tmp_x.reshape((-1, preproc_french_sentences.shape[-2], 1))\n",
    "\n",
    "\n",
    "# Input shape of Bidirectional RNNs Model\n",
    "print(tmp_x.shape)"
   ]
  },
  {
   "cell_type": "code",
   "execution_count": 60,
   "metadata": {},
   "outputs": [],
   "source": [
    "def bd_model(input_shape, output_sequence_length, english_vocab_size, french_vocab_size):\n",
    "    \"\"\"\n",
    "    Build and train a bidirectional RNN model on x and y\n",
    "    :param input_shape: Tuple of input shape\n",
    "    :param output_sequence_length: Length of output sequence\n",
    "    :param english_vocab_size: Number of unique English words in the dataset\n",
    "    :param french_vocab_size: Number of unique French words in the dataset\n",
    "    :return: Keras model built, but not trained\n",
    "    \"\"\"\n",
    "        \n",
    "    # Implement\n",
    "    learning_rate = 0.008\n",
    "        \n",
    "    model = Sequential()\n",
    "    \n",
    "    # input\n",
    "    model.add(Bidirectional(GRU(128, \n",
    "                                return_sequences = True), \n",
    "                            input_shape = input_shape[1:]))\n",
    "       \n",
    "    model.add(TimeDistributed(Dense(1024, \n",
    "                                    activation = 'relu')))\n",
    "    \n",
    "    model.add(Dropout(0.1))\n",
    "    \n",
    "    # output\n",
    "    model.add(TimeDistributed(Dense(french_vocab_size,\n",
    "                                    activation = 'softmax')))\n",
    "    \n",
    "\n",
    "\n",
    "    # Compile model\n",
    "    model.compile(loss = sparse_categorical_crossentropy,\n",
    "                  optimizer = Adam(learning_rate),\n",
    "                  metrics = ['accuracy'])\n",
    "    \n",
    "                                 \n",
    "    return model\n",
    "\n",
    "tests.test_bd_model(bd_model)"
   ]
  },
  {
   "cell_type": "code",
   "execution_count": 64,
   "metadata": {},
   "outputs": [
    {
     "name": "stdout",
     "output_type": "stream",
     "text": [
      "Resume Model:\n",
      "_________________________________________________________________\n",
      "Layer (type)                 Output Shape              Param #   \n",
      "=================================================================\n",
      "bidirectional_25 (Bidirectio (None, 21, 256)           99840     \n",
      "_________________________________________________________________\n",
      "time_distributed_29 (TimeDis (None, 21, 1024)          263168    \n",
      "_________________________________________________________________\n",
      "dropout_14 (Dropout)         (None, 21, 1024)          0         \n",
      "_________________________________________________________________\n",
      "time_distributed_30 (TimeDis (None, 21, 345)           353625    \n",
      "=================================================================\n",
      "Total params: 716,633\n",
      "Trainable params: 716,633\n",
      "Non-trainable params: 0\n",
      "_________________________________________________________________\n",
      "None\n",
      "Train on 110288 samples, validate on 27573 samples\n",
      "Epoch 1/10\n",
      "110288/110288 [==============================] - 37s 334us/step - loss: 1.2361 - acc: 0.6484 - val_loss: 0.9130 - val_acc: 0.7004\n",
      "Epoch 2/10\n",
      "110288/110288 [==============================] - 34s 305us/step - loss: 0.8557 - acc: 0.7091 - val_loss: 0.7397 - val_acc: 0.7396\n",
      "Epoch 3/10\n",
      "110288/110288 [==============================] - 34s 304us/step - loss: 0.7412 - acc: 0.7366 - val_loss: 0.6366 - val_acc: 0.7761\n",
      "Epoch 4/10\n",
      "110288/110288 [==============================] - 33s 304us/step - loss: 0.6490 - acc: 0.7685 - val_loss: 0.5565 - val_acc: 0.8034\n",
      "Epoch 5/10\n",
      "110288/110288 [==============================] - 34s 304us/step - loss: 0.6075 - acc: 0.7845 - val_loss: 0.5193 - val_acc: 0.8205\n",
      "Epoch 6/10\n",
      "110288/110288 [==============================] - 34s 305us/step - loss: 0.5683 - acc: 0.7975 - val_loss: 0.4778 - val_acc: 0.8337\n",
      "Epoch 7/10\n",
      "110288/110288 [==============================] - 33s 302us/step - loss: 0.5748 - acc: 0.7895 - val_loss: 0.5553 - val_acc: 0.7971\n",
      "Epoch 8/10\n",
      "110288/110288 [==============================] - 34s 305us/step - loss: 0.5515 - acc: 0.8025 - val_loss: 0.5883 - val_acc: 0.7894\n",
      "Epoch 9/10\n",
      "110288/110288 [==============================] - 33s 303us/step - loss: 0.5408 - acc: 0.8068 - val_loss: 0.4574 - val_acc: 0.8392\n",
      "Epoch 10/10\n",
      "110288/110288 [==============================] - 34s 305us/step - loss: 0.4869 - acc: 0.8271 - val_loss: 0.4200 - val_acc: 0.8519\n"
     ]
    },
    {
     "data": {
      "text/plain": [
       "<keras.callbacks.History at 0x7f22cbc40e10>"
      ]
     },
     "execution_count": 64,
     "metadata": {},
     "output_type": "execute_result"
    }
   ],
   "source": [
    "# Train and Print prediction(s)\n",
    "# Train the neural network\n",
    "bd_model_rnn = bd_model(tmp_x.shape,\n",
    "                        max_french_sequence_length,\n",
    "                        english_vocab_size+1,\n",
    "                        french_vocab_size+1)\n",
    "\n",
    "# Watch Model\n",
    "print(\"Resume Model:\")\n",
    "print(bd_model_rnn.summary())\n",
    "\n",
    "bd_model_rnn.fit(tmp_x, \n",
    "                 preproc_french_sentences, \n",
    "                 batch_size = 256, \n",
    "                 epochs = 10, \n",
    "                 validation_split = 0.2)"
   ]
  },
  {
   "cell_type": "code",
   "execution_count": 65,
   "metadata": {},
   "outputs": [
    {
     "name": "stdout",
     "output_type": "stream",
     "text": [
      "new jersey est parfois calme en cours et l' est neigeux en en <PAD> <PAD> <PAD> <PAD> <PAD> <PAD> <PAD> <PAD>\n",
      "\n",
      "Correct Translation:\n",
      "[\"new jersey est parfois calme pendant l' automne , et il est neigeux en avril .\"]\n",
      "\n",
      "Original text:\n",
      "['new jersey is sometimes quiet during autumn , and it is snowy in april .']\n"
     ]
    }
   ],
   "source": [
    "# Print prediction(s)\n",
    "print(logits_to_text(bd_model_rnn.predict(tmp_x[:1])[0], \n",
    "                                          french_tokenizer))\n",
    "\n",
    "print(\"\\nCorrect Translation:\")\n",
    "print(french_sentences[:1])\n",
    "\n",
    "print(\"\\nOriginal text:\")\n",
    "print(english_sentences[:1])"
   ]
  },
  {
   "cell_type": "code",
   "execution_count": 66,
   "metadata": {},
   "outputs": [
    {
     "name": "stdout",
     "output_type": "stream",
     "text": [
      "Score accuracy:  0.853862160226\n"
     ]
    }
   ],
   "source": [
    "# Score accuracy\n",
    "score = bd_model_rnn.evaluate(tmp_x, \n",
    "                              preproc_french_sentences, \n",
    "                              verbose = 0)\n",
    "print(\"Score accuracy: \", score[1])"
   ]
  },
  {
   "cell_type": "markdown",
   "metadata": {},
   "source": [
    "### Model 4: Encoder-Decoder \n",
    "Time to look at encoder-decoder models.  This model is made up of an encoder and decoder. The encoder creates a matrix representation of the sentence.  The decoder takes this matrix as input and predicts the translation as output."
   ]
  },
  {
   "cell_type": "code",
   "execution_count": 80,
   "metadata": {},
   "outputs": [],
   "source": [
    "def encdec_model(input_shape, output_sequence_length, english_vocab_size, french_vocab_size):\n",
    "    \"\"\"\n",
    "    Build and train an encoder-decoder model on x and y\n",
    "    :param input_shape: Tuple of input shape\n",
    "    :param output_sequence_length: Length of output sequence\n",
    "    :param english_vocab_size: Number of unique English words in the dataset\n",
    "    :param french_vocab_size: Number of unique French words in the dataset\n",
    "    :return: Keras model built, but not trained\n",
    "    \"\"\"\n",
    "    # Implement\n",
    "    learning_rate = 0.008\n",
    "    \n",
    "    model = Sequential()\n",
    "    \n",
    "    # encoder\n",
    "    model.add(GRU(128, input_shape = input_shape[1:], go_backwards=True))\n",
    "    \n",
    "    model.add(RepeatVector(output_sequence_length))\n",
    "    \n",
    "    \n",
    "    # decoder\n",
    "    model.add(GRU(128,\n",
    "                  return_sequences = True))\n",
    "    \n",
    "    model.add(TimeDistributed(Dense(1024, activation='relu')))\n",
    "    model.add(Dropout(0.2))\n",
    "    \n",
    "    \n",
    "    # output\n",
    "    model.add(TimeDistributed(Dense(french_vocab_size,\n",
    "                                    activation = 'softmax')))\n",
    "    \n",
    "    # Compile model\n",
    "    model.compile(loss = sparse_categorical_crossentropy,\n",
    "                  optimizer = Adam(learning_rate),\n",
    "                  metrics = ['accuracy'])\n",
    "    return model\n",
    "\n",
    "tests.test_encdec_model(encdec_model)"
   ]
  },
  {
   "cell_type": "code",
   "execution_count": 81,
   "metadata": {},
   "outputs": [
    {
     "name": "stdout",
     "output_type": "stream",
     "text": [
      "(137861, 15, 1)\n"
     ]
    }
   ],
   "source": [
    "# Reshape input for basic RNN\n",
    "# Reshaping the input to work with a basic RNN\n",
    "tmp_x = pad(preproc_english_sentences)\n",
    "tmp_x = tmp_x.reshape((-1, preproc_english_sentences.shape[1], 1))\n",
    "\n",
    "# Input shape of simple RNN\n",
    "print(tmp_x.shape)"
   ]
  },
  {
   "cell_type": "code",
   "execution_count": 82,
   "metadata": {},
   "outputs": [
    {
     "name": "stdout",
     "output_type": "stream",
     "text": [
      "Resume Model:\n",
      "_________________________________________________________________\n",
      "Layer (type)                 Output Shape              Param #   \n",
      "=================================================================\n",
      "gru_42 (GRU)                 (None, 128)               49920     \n",
      "_________________________________________________________________\n",
      "repeat_vector_19 (RepeatVect (None, 21, 128)           0         \n",
      "_________________________________________________________________\n",
      "gru_43 (GRU)                 (None, 21, 128)           98688     \n",
      "_________________________________________________________________\n",
      "time_distributed_45 (TimeDis (None, 21, 1024)          132096    \n",
      "_________________________________________________________________\n",
      "dropout_22 (Dropout)         (None, 21, 1024)          0         \n",
      "_________________________________________________________________\n",
      "time_distributed_46 (TimeDis (None, 21, 345)           353625    \n",
      "=================================================================\n",
      "Total params: 634,329\n",
      "Trainable params: 634,329\n",
      "Non-trainable params: 0\n",
      "_________________________________________________________________\n",
      "None\n",
      "Train on 110288 samples, validate on 27573 samples\n",
      "Epoch 1/10\n",
      "110288/110288 [==============================] - 36s 331us/step - loss: 1.5950 - acc: 0.5911 - val_loss: 1.1803 - val_acc: 0.6641\n",
      "Epoch 2/10\n",
      "110288/110288 [==============================] - 32s 293us/step - loss: 1.1312 - acc: 0.6706 - val_loss: 1.0041 - val_acc: 0.6938\n",
      "Epoch 3/10\n",
      "110288/110288 [==============================] - 32s 294us/step - loss: 1.0027 - acc: 0.6949 - val_loss: 0.8892 - val_acc: 0.7201\n",
      "Epoch 4/10\n",
      "110288/110288 [==============================] - 32s 294us/step - loss: 0.9247 - acc: 0.7094 - val_loss: 0.8178 - val_acc: 0.7356\n",
      "Epoch 5/10\n",
      "110288/110288 [==============================] - 32s 294us/step - loss: 0.8728 - acc: 0.7194 - val_loss: 0.8186 - val_acc: 0.7315\n",
      "Epoch 6/10\n",
      "110288/110288 [==============================] - 32s 292us/step - loss: 0.8091 - acc: 0.7343 - val_loss: 0.8185 - val_acc: 0.7274\n",
      "Epoch 7/10\n",
      "110288/110288 [==============================] - 33s 297us/step - loss: 0.7856 - acc: 0.7373 - val_loss: 0.7118 - val_acc: 0.7540\n",
      "Epoch 8/10\n",
      "110288/110288 [==============================] - 33s 295us/step - loss: 0.7895 - acc: 0.7354 - val_loss: 1.0665 - val_acc: 0.6588\n",
      "Epoch 9/10\n",
      "110288/110288 [==============================] - 32s 294us/step - loss: 0.8931 - acc: 0.6995 - val_loss: 1.0091 - val_acc: 0.6675\n",
      "Epoch 10/10\n",
      "110288/110288 [==============================] - 32s 294us/step - loss: 0.8284 - acc: 0.7149 - val_loss: 0.7505 - val_acc: 0.7298\n"
     ]
    },
    {
     "data": {
      "text/plain": [
       "<keras.callbacks.History at 0x7f22c5b73dd8>"
      ]
     },
     "execution_count": 82,
     "metadata": {},
     "output_type": "execute_result"
    }
   ],
   "source": [
    "# OPTIONAL: Train and Print prediction(s)\n",
    "# Train the neural network\n",
    "encdec_model_rnn = encdec_model(tmp_x.shape,\n",
    "                                max_french_sequence_length,\n",
    "                                english_vocab_size+1,\n",
    "                                french_vocab_size+1)\n",
    "\n",
    "# Watch Model\n",
    "print(\"Resume Model:\")\n",
    "print(encdec_model_rnn.summary())\n",
    "\n",
    "encdec_model_rnn.fit(tmp_x, \n",
    "                     preproc_french_sentences, \n",
    "                     batch_size = 256, \n",
    "                     epochs = 10, \n",
    "                     validation_split = 0.2)"
   ]
  },
  {
   "cell_type": "code",
   "execution_count": 83,
   "metadata": {},
   "outputs": [
    {
     "name": "stdout",
     "output_type": "stream",
     "text": [
      "new jersey est parfois parfois au mois de il il est est en <PAD> <PAD> <PAD> <PAD> <PAD> <PAD> <PAD> <PAD>\n",
      "\n",
      "Correct Translation:\n",
      "[\"new jersey est parfois calme pendant l' automne , et il est neigeux en avril .\"]\n",
      "\n",
      "Original text:\n",
      "['new jersey is sometimes quiet during autumn , and it is snowy in april .']\n"
     ]
    }
   ],
   "source": [
    "# Print prediction(s)\n",
    "print(logits_to_text(encdec_model_rnn.predict(tmp_x[:1])[0], \n",
    "                                              french_tokenizer))\n",
    "\n",
    "print(\"\\nCorrect Translation:\")\n",
    "print(french_sentences[:1])\n",
    "\n",
    "print(\"\\nOriginal text:\")\n",
    "print(english_sentences[:1])"
   ]
  },
  {
   "cell_type": "code",
   "execution_count": 84,
   "metadata": {},
   "outputs": [
    {
     "name": "stdout",
     "output_type": "stream",
     "text": [
      "Score accuracy:  0.730897378037\n"
     ]
    }
   ],
   "source": [
    "# Score accuracy\n",
    "score = encdec_model_rnn.evaluate(tmp_x, \n",
    "                                  preproc_french_sentences, \n",
    "                                  verbose = 0)\n",
    "print(\"Score accuracy: \", score[1])"
   ]
  },
  {
   "cell_type": "markdown",
   "metadata": {},
   "source": [
    "### Model 5: Custom \n",
    "Model that incorporates embedding and a bidirectional rnn into one model."
   ]
  },
  {
   "cell_type": "code",
   "execution_count": 35,
   "metadata": {},
   "outputs": [],
   "source": [
    "def model_final(input_shape, output_sequence_length, english_vocab_size, french_vocab_size):\n",
    "    \n",
    "    \"\"\"\n",
    "    Build and train a model that incorporates embedding, encoder-decoder, and bidirectional RNN on x and y\n",
    "    :param input_shape: Tuple of input shape\n",
    "    :param output_sequence_length: Length of output sequence\n",
    "    :param english_vocab_size: Number of unique English words in the dataset\n",
    "    :param french_vocab_size: Number of unique French words in the dataset\n",
    "    :return: Keras model built, but not trained\n",
    "    \"\"\"\n",
    "    # Implement\n",
    "    \n",
    "    learning_rate = 0.006\n",
    "    \n",
    "    model = Sequential()\n",
    "    \n",
    "    # Embedding -------------------------------------------\n",
    "    \n",
    "    # input\n",
    "    model.add(Embedding(english_vocab_size,\n",
    "                        128,\n",
    "                        input_length = input_shape[1:],\n",
    "                        input_shape = input_shape[1:]))\n",
    "                      \n",
    "    model.add(LSTM(128, \n",
    "                   dropout = 0.1, \n",
    "                   return_sequences = True))\n",
    "    \n",
    "    \n",
    "    # Bidirectional --------------------------------------\n",
    "    model.add(Bidirectional(GRU(128)))\n",
    "    \n",
    "    # Encoder --------------------------------------------\n",
    "    model.add(RepeatVector(output_sequence_length))\n",
    "\n",
    "        \n",
    "    # Bidirectional --------------------------------------\n",
    "    model.add(Bidirectional(GRU(128, return_sequences=True)))\n",
    "    \n",
    "    # Decoder --------------------------------------------    \n",
    "    model.add(TimeDistributed(Dense(256, activation='relu')))\n",
    "    model.add(Dropout(0.2))\n",
    "    \n",
    "    # output ---------------------------------------------\n",
    "    model.add(TimeDistributed(Dense(french_vocab_size, \n",
    "                                    activation = 'softmax')))\n",
    "    \n",
    "    # Compile model\n",
    "    model.compile(loss = sparse_categorical_crossentropy,\n",
    "                  optimizer = Adam(learning_rate),\n",
    "                  metrics = ['accuracy'])\n",
    "    \n",
    "    return model\n",
    "\n",
    "\n",
    "tests.test_model_final(model_final)"
   ]
  },
  {
   "cell_type": "code",
   "execution_count": 37,
   "metadata": {},
   "outputs": [
    {
     "name": "stdout",
     "output_type": "stream",
     "text": [
      "Final Model Loaded\n",
      "Resume Model:\n",
      "_________________________________________________________________\n",
      "Layer (type)                 Output Shape              Param #   \n",
      "=================================================================\n",
      "embedding_11 (Embedding)     (None, 15, 128)           25600     \n",
      "_________________________________________________________________\n",
      "lstm_11 (LSTM)               (None, 15, 128)           131584    \n",
      "_________________________________________________________________\n",
      "bidirectional_21 (Bidirectio (None, 256)               197376    \n",
      "_________________________________________________________________\n",
      "repeat_vector_11 (RepeatVect (None, 21, 256)           0         \n",
      "_________________________________________________________________\n",
      "bidirectional_22 (Bidirectio (None, 21, 256)           295680    \n",
      "_________________________________________________________________\n",
      "time_distributed_21 (TimeDis (None, 21, 256)           65792     \n",
      "_________________________________________________________________\n",
      "dropout_11 (Dropout)         (None, 21, 256)           0         \n",
      "_________________________________________________________________\n",
      "time_distributed_22 (TimeDis (None, 21, 345)           88665     \n",
      "=================================================================\n",
      "Total params: 804,697\n",
      "Trainable params: 804,697\n",
      "Non-trainable params: 0\n",
      "_________________________________________________________________\n",
      "None\n",
      "Train on 110288 samples, validate on 27573 samples\n",
      "Epoch 1/10\n",
      "110288/110288 [==============================] - 68s 619us/step - loss: 1.5361 - acc: 0.6124 - val_loss: 0.8676 - val_acc: 0.7341\n",
      "Epoch 2/10\n",
      "110288/110288 [==============================] - 66s 595us/step - loss: 0.7061 - acc: 0.7805 - val_loss: 0.4647 - val_acc: 0.8519\n",
      "Epoch 3/10\n",
      "110288/110288 [==============================] - 66s 597us/step - loss: 0.3850 - acc: 0.8816 - val_loss: 0.2416 - val_acc: 0.9295\n",
      "Epoch 4/10\n",
      "110288/110288 [==============================] - 66s 599us/step - loss: 0.2378 - acc: 0.9296 - val_loss: 0.1797 - val_acc: 0.9480\n",
      "Epoch 5/10\n",
      "110288/110288 [==============================] - 65s 592us/step - loss: 0.2350 - acc: 0.9303 - val_loss: 0.2432 - val_acc: 0.9274\n",
      "Epoch 6/10\n",
      "110288/110288 [==============================] - 65s 591us/step - loss: 0.1788 - acc: 0.9460 - val_loss: 0.1207 - val_acc: 0.9627\n",
      "Epoch 7/10\n",
      "110288/110288 [==============================] - 66s 596us/step - loss: 0.1401 - acc: 0.9572 - val_loss: 0.1530 - val_acc: 0.9547\n",
      "Epoch 8/10\n",
      "110288/110288 [==============================] - 65s 593us/step - loss: 0.2051 - acc: 0.9385 - val_loss: 0.1294 - val_acc: 0.9598\n",
      "Epoch 9/10\n",
      "110288/110288 [==============================] - 66s 595us/step - loss: 0.1726 - acc: 0.9476 - val_loss: 0.1164 - val_acc: 0.9631\n",
      "Epoch 10/10\n",
      "110288/110288 [==============================] - 65s 587us/step - loss: 0.1512 - acc: 0.9535 - val_loss: 0.1074 - val_acc: 0.9675\n"
     ]
    },
    {
     "data": {
      "text/plain": [
       "<keras.callbacks.History at 0x7f22d5b2fac8>"
      ]
     },
     "execution_count": 37,
     "metadata": {},
     "output_type": "execute_result"
    }
   ],
   "source": [
    "print('Final Model Loaded')\n",
    "# Train the final model\n",
    "model_final_rnn = model_final(preproc_english_sentences.shape,\n",
    "                              preproc_french_sentences.shape[1],\n",
    "                              len(english_tokenizer.word_index)+1,\n",
    "                              len(french_tokenizer.word_index)+1)\n",
    "\n",
    "# Watch Model\n",
    "print(\"Resume Model:\")\n",
    "print(model_final_rnn.summary())\n",
    "\n",
    "model_final_rnn.fit(preproc_english_sentences,\n",
    "                    preproc_french_sentences,\n",
    "                    batch_size = 256,\n",
    "                    epochs = 10,\n",
    "                    validation_split = 0.2)"
   ]
  },
  {
   "cell_type": "code",
   "execution_count": 38,
   "metadata": {},
   "outputs": [
    {
     "name": "stdout",
     "output_type": "stream",
     "text": [
      "new jersey est parfois calme pendant l' automne et il est neigeux en avril <PAD> <PAD> <PAD> <PAD> <PAD> <PAD> <PAD>\n",
      "\n",
      "Correct Translation:\n",
      "[\"new jersey est parfois calme pendant l' automne , et il est neigeux en avril .\"]\n",
      "\n",
      "Original text:\n",
      "['new jersey is sometimes quiet during autumn , and it is snowy in april .']\n"
     ]
    }
   ],
   "source": [
    "# Print prediction(s)\n",
    "print(logits_to_text(model_final_rnn.predict(preproc_english_sentences[:1])[0], \n",
    "                                              french_tokenizer))\n",
    "\n",
    "print(\"\\nCorrect Translation:\")\n",
    "print(french_sentences[:1])\n",
    "\n",
    "print(\"\\nOriginal text:\")\n",
    "print(english_sentences[:1])"
   ]
  },
  {
   "cell_type": "code",
   "execution_count": 39,
   "metadata": {},
   "outputs": [
    {
     "name": "stdout",
     "output_type": "stream",
     "text": [
      "Score accuracy:  0.97106679631\n"
     ]
    }
   ],
   "source": [
    "# Score accuracy\n",
    "score = model_final_rnn.evaluate(preproc_english_sentences, \n",
    "                                 preproc_french_sentences, \n",
    "                                 verbose = 0)\n",
    "print(\"Score accuracy: \", score[1])"
   ]
  },
  {
   "cell_type": "markdown",
   "metadata": {},
   "source": [
    "## Prediction (IMPLEMENTATION)"
   ]
  },
  {
   "cell_type": "code",
   "execution_count": 40,
   "metadata": {},
   "outputs": [
    {
     "name": "stdout",
     "output_type": "stream",
     "text": [
      "Sample 1:\n",
      "il a vu un vieux camion jaune <PAD> <PAD> <PAD> <PAD> <PAD> <PAD> <PAD> <PAD> <PAD> <PAD> <PAD> <PAD> <PAD> <PAD>\n",
      "Il a vu un vieux camion jaune\n",
      "Sample 2:\n",
      "new jersey est parfois calme pendant l' automne et il est neigeux en avril <PAD> <PAD> <PAD> <PAD> <PAD> <PAD> <PAD>\n",
      "new jersey est parfois calme pendant l' automne et il est neigeux en avril <PAD> <PAD> <PAD> <PAD> <PAD> <PAD> <PAD>\n"
     ]
    }
   ],
   "source": [
    "def final_predictions(x, y, x_tk, y_tk):\n",
    "    \"\"\"\n",
    "    Gets predictions using the final model\n",
    "    :param x: Preprocessed English data\n",
    "    :param y: Preprocessed French data\n",
    "    :param x_tk: English tokenizer\n",
    "    :param y_tk: French tokenizer\n",
    "    \"\"\"\n",
    "    # ---- Done Up -----\n",
    "    # Train neural network using model_final\n",
    "    # model = None\n",
    "    # ---- Done Up ----- \n",
    "    \n",
    "    ## DON'T EDIT ANYTHING BELOW THIS LINE\n",
    "    y_id_to_word = {value: key for key, value in y_tk.word_index.items()}\n",
    "    y_id_to_word[0] = '<PAD>'\n",
    "\n",
    "    sentence = 'he saw a old yellow truck'\n",
    "    sentence = [x_tk.word_index[word] for word in sentence.split()]\n",
    "    sentence = pad_sequences([sentence], maxlen=x.shape[-1], padding='post')\n",
    "    sentences = np.array([sentence[0], x[0]])\n",
    "    predictions = model_final_rnn.predict(sentences, len(sentences))\n",
    "\n",
    "    print('Sample 1:')\n",
    "    print(' '.join([y_id_to_word[np.argmax(x)] for x in predictions[0]]))\n",
    "    print('Il a vu un vieux camion jaune')\n",
    "    print('Sample 2:')\n",
    "    print(' '.join([y_id_to_word[np.argmax(x)] for x in predictions[1]]))\n",
    "    print(' '.join([y_id_to_word[np.max(x)] for x in y[0]]))\n",
    "\n",
    "\n",
    "final_predictions(preproc_english_sentences, \n",
    "                  preproc_french_sentences, \n",
    "                  english_tokenizer, \n",
    "                  french_tokenizer)"
   ]
  }
 ],
 "metadata": {
  "kernelspec": {
   "display_name": "Python 3",
   "language": "python",
   "name": "python3"
  },
  "language_info": {
   "codemirror_mode": {
    "name": "ipython",
    "version": 3
   },
   "file_extension": ".py",
   "mimetype": "text/x-python",
   "name": "python",
   "nbconvert_exporter": "python",
   "pygments_lexer": "ipython3",
   "version": "3.7.3"
  }
 },
 "nbformat": 4,
 "nbformat_minor": 1
}

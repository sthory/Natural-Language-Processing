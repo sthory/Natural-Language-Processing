{
 "cells": [
  {
   "cell_type": "markdown",
   "id": "585110e1-6b19-4294-814c-215e661cd81b",
   "metadata": {},
   "source": [
    "### BERT Fine-tuning\n",
    "One of the most common uses of BERT is to download a model that has been pre-trained with a large amount of text and fine tuning it with a small amount of data. In this article, we will show you how to download a pre-trained model from hugginfface and fine tune it with sample code."
   ]
  },
  {
   "cell_type": "markdown",
   "id": "2e9def9c-cc38-4ac3-b120-fc9e17b36762",
   "metadata": {},
   "source": [
    "#### 1. Install Required Packages"
   ]
  },
  {
   "cell_type": "code",
   "execution_count": null,
   "id": "7c6790c6-c0d4-4496-8f9b-027e7cde9a6b",
   "metadata": {},
   "outputs": [],
   "source": [
    "!pip install datasets\n",
    "!pip install torch\n",
    "!pip install transformers"
   ]
  },
  {
   "cell_type": "code",
   "execution_count": 3,
   "id": "b6e44b60-3f56-4e0e-96a7-921910e98a53",
   "metadata": {},
   "outputs": [],
   "source": [
    "# When using Google Colab\n",
    "#!pip install datasets; pip install torch; pip install transformers"
   ]
  },
  {
   "cell_type": "markdown",
   "id": "a35792d5-27b7-4da9-b023-48f65c55e28b",
   "metadata": {},
   "source": [
    "#### 2. Load Movie Review Dataset"
   ]
  },
  {
   "cell_type": "code",
   "execution_count": 5,
   "id": "03324f09-612d-4d8b-97be-cb7ecd18d194",
   "metadata": {},
   "outputs": [
    {
     "data": {
      "application/vnd.jupyter.widget-view+json": {
       "model_id": "c813bf7e38a54588a4588ab4926554c0",
       "version_major": 2,
       "version_minor": 0
      },
      "text/plain": [
       "HBox(children=(HTML(value='Downloading'), FloatProgress(value=0.0, max=1789.0), HTML(value='')))"
      ]
     },
     "metadata": {},
     "output_type": "display_data"
    },
    {
     "name": "stdout",
     "output_type": "stream",
     "text": [
      "\n"
     ]
    },
    {
     "data": {
      "application/vnd.jupyter.widget-view+json": {
       "model_id": "f0926c885ea84115af0ea8d2e7f09bac",
       "version_major": 2,
       "version_minor": 0
      },
      "text/plain": [
       "HBox(children=(HTML(value='Downloading'), FloatProgress(value=0.0, max=1054.0), HTML(value='')))"
      ]
     },
     "metadata": {},
     "output_type": "display_data"
    },
    {
     "name": "stdout",
     "output_type": "stream",
     "text": [
      "\n",
      "Downloading and preparing dataset imdb/plain_text (download: 80.23 MiB, generated: 127.02 MiB, post-processed: Unknown size, total: 207.25 MiB) to C:\\Users\\sthor\\.cache\\huggingface\\datasets\\imdb\\plain_text\\1.0.0\\2fdd8b9bcadd6e7055e742a706876ba43f19faee861df134affd7a3f60fc38a1...\n"
     ]
    },
    {
     "data": {
      "application/vnd.jupyter.widget-view+json": {
       "model_id": "013622a83f4543cbb6be6eccf88f04de",
       "version_major": 2,
       "version_minor": 0
      },
      "text/plain": [
       "HBox(children=(HTML(value='Downloading'), FloatProgress(value=0.0, max=84125825.0), HTML(value='')))"
      ]
     },
     "metadata": {},
     "output_type": "display_data"
    },
    {
     "name": "stdout",
     "output_type": "stream",
     "text": [
      "\n"
     ]
    },
    {
     "data": {
      "application/vnd.jupyter.widget-view+json": {
       "model_id": "",
       "version_major": 2,
       "version_minor": 0
      },
      "text/plain": [
       "HBox(children=(HTML(value=''), FloatProgress(value=1.0, bar_style='info', layout=Layout(width='20px'), max=1.0…"
      ]
     },
     "metadata": {},
     "output_type": "display_data"
    },
    {
     "data": {
      "application/vnd.jupyter.widget-view+json": {
       "model_id": "",
       "version_major": 2,
       "version_minor": 0
      },
      "text/plain": [
       "HBox(children=(HTML(value=''), FloatProgress(value=1.0, bar_style='info', layout=Layout(width='20px'), max=1.0…"
      ]
     },
     "metadata": {},
     "output_type": "display_data"
    },
    {
     "data": {
      "application/vnd.jupyter.widget-view+json": {
       "model_id": "",
       "version_major": 2,
       "version_minor": 0
      },
      "text/plain": [
       "HBox(children=(HTML(value=''), FloatProgress(value=1.0, bar_style='info', layout=Layout(width='20px'), max=1.0…"
      ]
     },
     "metadata": {},
     "output_type": "display_data"
    },
    {
     "name": "stdout",
     "output_type": "stream",
     "text": [
      "Dataset imdb downloaded and prepared to C:\\Users\\sthor\\.cache\\huggingface\\datasets\\imdb\\plain_text\\1.0.0\\2fdd8b9bcadd6e7055e742a706876ba43f19faee861df134affd7a3f60fc38a1. Subsequent calls will reuse this data.\n"
     ]
    },
    {
     "data": {
      "application/vnd.jupyter.widget-view+json": {
       "model_id": "8fba9e661a8f40dd885e86b372d8b30b",
       "version_major": 2,
       "version_minor": 0
      },
      "text/plain": [
       "HBox(children=(HTML(value=''), FloatProgress(value=0.0, max=3.0), HTML(value='')))"
      ]
     },
     "metadata": {},
     "output_type": "display_data"
    },
    {
     "name": "stdout",
     "output_type": "stream",
     "text": [
      "\n"
     ]
    }
   ],
   "source": [
    "from datasets import load_dataset\n",
    "raw_datasets = load_dataset(\"imdb\")"
   ]
  },
  {
   "cell_type": "markdown",
   "id": "db8aa884-a760-4a59-8f60-d8ea089cfdc4",
   "metadata": {},
   "source": [
    "#### 3. Check Dataset"
   ]
  },
  {
   "cell_type": "code",
   "execution_count": 6,
   "id": "8caad777-6fd3-4645-85de-5800a47ebd01",
   "metadata": {},
   "outputs": [
    {
     "name": "stdout",
     "output_type": "stream",
     "text": [
      "DatasetDict({\n",
      "    train: Dataset({\n",
      "        features: ['text', 'label'],\n",
      "        num_rows: 25000\n",
      "    })\n",
      "    test: Dataset({\n",
      "        features: ['text', 'label'],\n",
      "        num_rows: 25000\n",
      "    })\n",
      "    unsupervised: Dataset({\n",
      "        features: ['text', 'label'],\n",
      "        num_rows: 50000\n",
      "    })\n",
      "})\n"
     ]
    }
   ],
   "source": [
    "print(raw_datasets)"
   ]
  },
  {
   "cell_type": "markdown",
   "id": "6ae17827-b832-477c-9972-364d854ecdc6",
   "metadata": {},
   "source": [
    "#### 4. Select Samples for Train and Test"
   ]
  },
  {
   "cell_type": "code",
   "execution_count": 10,
   "id": "97074415-d8be-4e51-9fa8-d9d0f86164a9",
   "metadata": {},
   "outputs": [
    {
     "name": "stdout",
     "output_type": "stream",
     "text": [
      "                                                  text  label\n",
      "495  My first Ichikawa in many years, and the first...      1\n",
      "496  I saw this television version of a Christie my...      1\n",
      "497  This Movie was Great and Funny. Pauly is Funny...      1\n",
      "498  What a turd! I like John Leguizamo but man thi...      0\n",
      "499  Where this movies differs from traditional Hol...      1\n"
     ]
    }
   ],
   "source": [
    "sample_train_val = raw_datasets['train'].shuffle().select(range(0,2000)).to_pandas()\n",
    "sample_test      = raw_datasets['test'].shuffle().select(range(0,500)).to_pandas()\n",
    "print(sample_test[-5:])"
   ]
  },
  {
   "cell_type": "markdown",
   "id": "c2225af8-6045-4a8c-a257-c13ccee383d7",
   "metadata": {},
   "source": [
    "#### 5. Import Libraries"
   ]
  },
  {
   "cell_type": "code",
   "execution_count": 11,
   "id": "b8b5fe8f-cb86-4288-84e6-743558880b5b",
   "metadata": {},
   "outputs": [],
   "source": [
    "from sklearn.model_selection import train_test_split\n",
    "from sklearn.metrics import classification_report\n",
    "from sklearn.metrics import accuracy_score, recall_score, precision_score, f1_score\n",
    "\n",
    "from transformers import TrainingArguments, Trainer\n",
    "from transformers import BertTokenizer, BertForSequenceClassification\n",
    "from transformers import EarlyStoppingCallback\n",
    "\n",
    "import torch\n",
    "import numpy as np"
   ]
  },
  {
   "cell_type": "markdown",
   "id": "745fbab2-277d-400e-9277-1221aea0a372",
   "metadata": {},
   "source": [
    "#### 6. Define Pretrained Tokenizer and Model"
   ]
  },
  {
   "cell_type": "code",
   "execution_count": 12,
   "id": "8fe023bb-755e-4750-a3ab-33bf040444b4",
   "metadata": {},
   "outputs": [
    {
     "data": {
      "application/vnd.jupyter.widget-view+json": {
       "model_id": "e437743f804c48d985e2d26ef5155196",
       "version_major": 2,
       "version_minor": 0
      },
      "text/plain": [
       "HBox(children=(HTML(value='Downloading'), FloatProgress(value=0.0, max=28.0), HTML(value='')))"
      ]
     },
     "metadata": {},
     "output_type": "display_data"
    },
    {
     "name": "stdout",
     "output_type": "stream",
     "text": [
      "\n"
     ]
    },
    {
     "data": {
      "application/vnd.jupyter.widget-view+json": {
       "model_id": "f371f39de7ea468ebb56e1bd138ef2b1",
       "version_major": 2,
       "version_minor": 0
      },
      "text/plain": [
       "HBox(children=(HTML(value='Downloading'), FloatProgress(value=0.0, max=231508.0), HTML(value='')))"
      ]
     },
     "metadata": {},
     "output_type": "display_data"
    },
    {
     "name": "stdout",
     "output_type": "stream",
     "text": [
      "\n"
     ]
    },
    {
     "data": {
      "application/vnd.jupyter.widget-view+json": {
       "model_id": "1cf5eeef872546c5ac1d4553d7ab9bfd",
       "version_major": 2,
       "version_minor": 0
      },
      "text/plain": [
       "HBox(children=(HTML(value='Downloading'), FloatProgress(value=0.0, max=466062.0), HTML(value='')))"
      ]
     },
     "metadata": {},
     "output_type": "display_data"
    },
    {
     "name": "stdout",
     "output_type": "stream",
     "text": [
      "\n"
     ]
    },
    {
     "data": {
      "application/vnd.jupyter.widget-view+json": {
       "model_id": "586da881516f4956b735d77571591059",
       "version_major": 2,
       "version_minor": 0
      },
      "text/plain": [
       "HBox(children=(HTML(value='Downloading'), FloatProgress(value=0.0, max=570.0), HTML(value='')))"
      ]
     },
     "metadata": {},
     "output_type": "display_data"
    },
    {
     "name": "stdout",
     "output_type": "stream",
     "text": [
      "\n"
     ]
    },
    {
     "data": {
      "application/vnd.jupyter.widget-view+json": {
       "model_id": "6e6e3cc54d5146edb60ae859fb55c6c8",
       "version_major": 2,
       "version_minor": 0
      },
      "text/plain": [
       "HBox(children=(HTML(value='Downloading'), FloatProgress(value=0.0, max=440473133.0), HTML(value='')))"
      ]
     },
     "metadata": {},
     "output_type": "display_data"
    },
    {
     "name": "stdout",
     "output_type": "stream",
     "text": [
      "\n"
     ]
    },
    {
     "name": "stderr",
     "output_type": "stream",
     "text": [
      "Some weights of the model checkpoint at bert-base-uncased were not used when initializing BertForSequenceClassification: ['cls.seq_relationship.bias', 'cls.predictions.transform.LayerNorm.bias', 'cls.predictions.transform.LayerNorm.weight', 'cls.seq_relationship.weight', 'cls.predictions.transform.dense.weight', 'cls.predictions.bias', 'cls.predictions.transform.dense.bias', 'cls.predictions.decoder.weight']\n",
      "- This IS expected if you are initializing BertForSequenceClassification from the checkpoint of a model trained on another task or with another architecture (e.g. initializing a BertForSequenceClassification model from a BertForPreTraining model).\n",
      "- This IS NOT expected if you are initializing BertForSequenceClassification from the checkpoint of a model that you expect to be exactly identical (initializing a BertForSequenceClassification model from a BertForSequenceClassification model).\n",
      "Some weights of BertForSequenceClassification were not initialized from the model checkpoint at bert-base-uncased and are newly initialized: ['classifier.weight', 'classifier.bias']\n",
      "You should probably TRAIN this model on a down-stream task to be able to use it for predictions and inference.\n"
     ]
    }
   ],
   "source": [
    "model_name = \"bert-base-uncased\"\n",
    "tokenizer = BertTokenizer.from_pretrained(model_name)\n",
    "model = BertForSequenceClassification.from_pretrained(model_name, num_labels=2)"
   ]
  },
  {
   "cell_type": "markdown",
   "id": "3d442d69-48e6-483c-b2dc-b63197db4a52",
   "metadata": {},
   "source": [
    "#### 7. Preprocess Dataset"
   ]
  },
  {
   "cell_type": "code",
   "execution_count": 14,
   "id": "720cd6f4-ac4b-4f56-bace-d49d4c02f2af",
   "metadata": {},
   "outputs": [],
   "source": [
    "# Define a simple class inherited from torch dataset\n",
    "class Dataset(torch.utils.data.Dataset):\n",
    "    def __init__(self, encodings, labels=None):\n",
    "        self.encodings = encodings\n",
    "        self.labels = labels\n",
    "\n",
    "    def __getitem__(self, idx):\n",
    "        item = {key: torch.tensor(val[idx]) for key, val in self.encodings.items()}\n",
    "        if self.labels:\n",
    "            item[\"labels\"] = torch.tensor(self.labels[idx])\n",
    "        return item\n",
    "\n",
    "    def __len__(self):\n",
    "        return len(self.encodings[\"input_ids\"])"
   ]
  },
  {
   "cell_type": "code",
   "execution_count": 15,
   "id": "78b1df77-8c85-4372-a425-d27e4563e15f",
   "metadata": {},
   "outputs": [],
   "source": [
    "sample_x = list(sample_train_val[\"text\"])\n",
    "sample_y = list(sample_train_val[\"label\"])\n",
    "\n",
    "X_train, X_val, Y_train, Y_val = train_test_split(sample_x, sample_y, test_size=0.2)\n",
    "X_train_tokenized = tokenizer(X_train, padding=True, truncation=True, max_length=512)\n",
    "X_val_tokenized   = tokenizer(X_val, padding=True, truncation=True, max_length=512)\n",
    "\n",
    "input_train = Dataset(X_train_tokenized, Y_train)\n",
    "input_val   = Dataset(X_val_tokenized, Y_val)"
   ]
  },
  {
   "cell_type": "markdown",
   "id": "0b3fee75-01b4-4a2a-8f40-4261c6beffc5",
   "metadata": {},
   "source": [
    "#### 8. Define Evaluation Metrics"
   ]
  },
  {
   "cell_type": "code",
   "execution_count": 18,
   "id": "170d329b-a3a4-4062-bc19-e8462b08640a",
   "metadata": {},
   "outputs": [],
   "source": [
    "def compute_metrics(p):\n",
    "    pred, labels = p\n",
    "    pred = np.argmax(pred, axis=1)\n",
    "    print(classification_report(labels, pred))\n",
    "\n",
    "    accuracy = accuracy_score(y_true=labels, y_pred=pred)\n",
    "    recall = recall_score(y_true=labels, y_pred=pred)\n",
    "    precision = precision_score(y_true=labels, y_pred=pred)\n",
    "    f1 = f1_score(y_true=labels, y_pred=pred)\n",
    "\n",
    "    return {\"accuracy\": accuracy, \"precision\": precision, \"recall\": recall, \"f1\": f1}"
   ]
  },
  {
   "cell_type": "markdown",
   "id": "2d3e93c0-7771-49d1-a9bc-a958f639cf77",
   "metadata": {},
   "source": [
    "#### 9. Mount Google Drive (In case of using Google Colab)"
   ]
  },
  {
   "cell_type": "code",
   "execution_count": 19,
   "id": "cf408918-3e59-4f0c-8d6a-3ecb2def836a",
   "metadata": {},
   "outputs": [],
   "source": [
    "#from google.colab import drive\n",
    "# bert-output is an empty folder in your Google Drive\n",
    "#drive.mount('/content/gdrive')\n",
    "#%cd /content/gdrive/'My Drive'/'bert-output'"
   ]
  },
  {
   "cell_type": "markdown",
   "id": "17c72663-2c46-436f-86d2-60d081a60acc",
   "metadata": {},
   "source": [
    "#### 10. Fine-tune BERT"
   ]
  },
  {
   "cell_type": "code",
   "execution_count": 20,
   "id": "89dbcac4-9bc6-4174-8a06-7846c69843b5",
   "metadata": {},
   "outputs": [
    {
     "name": "stderr",
     "output_type": "stream",
     "text": [
      "C:\\Users\\sthor\\anaconda3\\envs\\NLP\\lib\\site-packages\\torch\\cuda\\__init__.py:80: UserWarning: CUDA initialization: CUDA driver initialization failed, you might not have a CUDA gpu. (Triggered internally at  ..\\c10\\cuda\\CUDAFunctions.cpp:112.)\n",
      "  return torch._C._cuda_getDeviceCount() > 0\n",
      "C:\\Users\\sthor\\anaconda3\\envs\\NLP\\lib\\site-packages\\transformers\\optimization.py:309: FutureWarning: This implementation of AdamW is deprecated and will be removed in a future version. Use thePyTorch implementation torch.optim.AdamW instead, or set `no_deprecation_warning=True` to disable this warning\n",
      "  FutureWarning,\n",
      "***** Running training *****\n",
      "  Num examples = 1600\n",
      "  Num Epochs = 2\n",
      "  Instantaneous batch size per device = 8\n",
      "  Total train batch size (w. parallel, distributed & accumulation) = 8\n",
      "  Gradient Accumulation steps = 1\n",
      "  Total optimization steps = 400\n"
     ]
    },
    {
     "data": {
      "text/html": [
       "\n",
       "    <div>\n",
       "      \n",
       "      <progress value='400' max='400' style='width:300px; height:20px; vertical-align: middle;'></progress>\n",
       "      [400/400 2:35:07, Epoch 2/2]\n",
       "    </div>\n",
       "    <table border=\"1\" class=\"dataframe\">\n",
       "  <thead>\n",
       " <tr style=\"text-align: left;\">\n",
       "      <th>Step</th>\n",
       "      <th>Training Loss</th>\n",
       "      <th>Validation Loss</th>\n",
       "      <th>Accuracy</th>\n",
       "      <th>Precision</th>\n",
       "      <th>Recall</th>\n",
       "      <th>F1</th>\n",
       "    </tr>\n",
       "  </thead>\n",
       "  <tbody>\n",
       "    <tr>\n",
       "      <td>100</td>\n",
       "      <td>No log</td>\n",
       "      <td>0.288282</td>\n",
       "      <td>0.890000</td>\n",
       "      <td>0.952941</td>\n",
       "      <td>0.818182</td>\n",
       "      <td>0.880435</td>\n",
       "    </tr>\n",
       "    <tr>\n",
       "      <td>200</td>\n",
       "      <td>No log</td>\n",
       "      <td>0.327833</td>\n",
       "      <td>0.890000</td>\n",
       "      <td>0.975309</td>\n",
       "      <td>0.797980</td>\n",
       "      <td>0.877778</td>\n",
       "    </tr>\n",
       "    <tr>\n",
       "      <td>300</td>\n",
       "      <td>No log</td>\n",
       "      <td>0.488668</td>\n",
       "      <td>0.900000</td>\n",
       "      <td>0.876190</td>\n",
       "      <td>0.929293</td>\n",
       "      <td>0.901961</td>\n",
       "    </tr>\n",
       "    <tr>\n",
       "      <td>400</td>\n",
       "      <td>No log</td>\n",
       "      <td>0.438178</td>\n",
       "      <td>0.902500</td>\n",
       "      <td>0.876777</td>\n",
       "      <td>0.934343</td>\n",
       "      <td>0.904645</td>\n",
       "    </tr>\n",
       "  </tbody>\n",
       "</table><p>"
      ],
      "text/plain": [
       "<IPython.core.display.HTML object>"
      ]
     },
     "metadata": {},
     "output_type": "display_data"
    },
    {
     "name": "stderr",
     "output_type": "stream",
     "text": [
      "***** Running Evaluation *****\n",
      "  Num examples = 400\n",
      "  Batch size = 8\n"
     ]
    },
    {
     "name": "stdout",
     "output_type": "stream",
     "text": [
      "              precision    recall  f1-score   support\n",
      "\n",
      "           0       0.84      0.96      0.90       202\n",
      "           1       0.95      0.82      0.88       198\n",
      "\n",
      "   micro avg       0.89      0.89      0.89       400\n",
      "   macro avg       0.90      0.89      0.89       400\n",
      "weighted avg       0.90      0.89      0.89       400\n",
      "\n"
     ]
    },
    {
     "name": "stderr",
     "output_type": "stream",
     "text": [
      "***** Running Evaluation *****\n",
      "  Num examples = 400\n",
      "  Batch size = 8\n"
     ]
    },
    {
     "name": "stdout",
     "output_type": "stream",
     "text": [
      "              precision    recall  f1-score   support\n",
      "\n",
      "           0       0.83      0.98      0.90       202\n",
      "           1       0.98      0.80      0.88       198\n",
      "\n",
      "   micro avg       0.89      0.89      0.89       400\n",
      "   macro avg       0.90      0.89      0.89       400\n",
      "weighted avg       0.90      0.89      0.89       400\n",
      "\n"
     ]
    },
    {
     "name": "stderr",
     "output_type": "stream",
     "text": [
      "***** Running Evaluation *****\n",
      "  Num examples = 400\n",
      "  Batch size = 8\n"
     ]
    },
    {
     "name": "stdout",
     "output_type": "stream",
     "text": [
      "              precision    recall  f1-score   support\n",
      "\n",
      "           0       0.93      0.87      0.90       202\n",
      "           1       0.88      0.93      0.90       198\n",
      "\n",
      "   micro avg       0.90      0.90      0.90       400\n",
      "   macro avg       0.90      0.90      0.90       400\n",
      "weighted avg       0.90      0.90      0.90       400\n",
      "\n"
     ]
    },
    {
     "name": "stderr",
     "output_type": "stream",
     "text": [
      "***** Running Evaluation *****\n",
      "  Num examples = 400\n",
      "  Batch size = 8\n"
     ]
    },
    {
     "name": "stdout",
     "output_type": "stream",
     "text": [
      "              precision    recall  f1-score   support\n",
      "\n",
      "           0       0.93      0.87      0.90       202\n",
      "           1       0.88      0.93      0.90       198\n",
      "\n",
      "   micro avg       0.90      0.90      0.90       400\n",
      "   macro avg       0.90      0.90      0.90       400\n",
      "weighted avg       0.90      0.90      0.90       400\n",
      "\n"
     ]
    },
    {
     "name": "stderr",
     "output_type": "stream",
     "text": [
      "\n",
      "\n",
      "Training completed. Do not forget to share your model on huggingface.co/models =)\n",
      "\n",
      "\n"
     ]
    },
    {
     "data": {
      "text/plain": [
       "TrainOutput(global_step=400, training_loss=0.31904365539550783, metrics={'train_runtime': 9334.3311, 'train_samples_per_second': 0.343, 'train_steps_per_second': 0.043, 'total_flos': 841955377152000.0, 'train_loss': 0.31904365539550783, 'epoch': 2.0})"
      ]
     },
     "execution_count": 20,
     "metadata": {},
     "output_type": "execute_result"
    }
   ],
   "source": [
    "# Define Training Arguments\n",
    "args = TrainingArguments(\n",
    "    output_dir=\"models\",\n",
    "    evaluation_strategy=\"steps\",\n",
    "    eval_steps=100,\n",
    "    per_device_train_batch_size=8,\n",
    "    per_device_eval_batch_size=8,\n",
    "    num_train_epochs=2,\n",
    "    seed=0,\n",
    "    load_best_model_at_end=True,\n",
    ")\n",
    "\n",
    "# Define Trainer\n",
    "trainer = Trainer(\n",
    "    model=model,\n",
    "    args=args,\n",
    "    train_dataset=input_train,\n",
    "    eval_dataset=input_val,\n",
    "    compute_metrics=compute_metrics,\n",
    "    callbacks=[EarlyStoppingCallback(early_stopping_patience=3)],\n",
    ")\n",
    "\n",
    "# Fine-tune pre-trained BERT\n",
    "trainer.train()"
   ]
  },
  {
   "cell_type": "code",
   "execution_count": 22,
   "id": "b0510f00-8b06-4b14-b4f6-222de11157cd",
   "metadata": {},
   "outputs": [
    {
     "name": "stderr",
     "output_type": "stream",
     "text": [
      "Saving model checkpoint to models/checkpoint-100\n",
      "Configuration saved in models/checkpoint-100\\config.json\n",
      "Model weights saved in models/checkpoint-100\\pytorch_model.bin\n"
     ]
    }
   ],
   "source": [
    "trainer.save_model(\"models/checkpoint-100\")"
   ]
  },
  {
   "cell_type": "markdown",
   "id": "919f95a5-4f62-4d2c-9bc8-ca5e3b0969aa",
   "metadata": {},
   "source": [
    "#### 11. Load Fine-tuned BERT and Run Prediction"
   ]
  },
  {
   "cell_type": "code",
   "execution_count": 23,
   "id": "b7e7f522-a37f-42df-96d3-c67e3212d401",
   "metadata": {},
   "outputs": [
    {
     "name": "stderr",
     "output_type": "stream",
     "text": [
      "loading configuration file models/checkpoint-100\\config.json\n",
      "Model config BertConfig {\n",
      "  \"_name_or_path\": \"bert-base-uncased\",\n",
      "  \"architectures\": [\n",
      "    \"BertForSequenceClassification\"\n",
      "  ],\n",
      "  \"attention_probs_dropout_prob\": 0.1,\n",
      "  \"classifier_dropout\": null,\n",
      "  \"gradient_checkpointing\": false,\n",
      "  \"hidden_act\": \"gelu\",\n",
      "  \"hidden_dropout_prob\": 0.1,\n",
      "  \"hidden_size\": 768,\n",
      "  \"initializer_range\": 0.02,\n",
      "  \"intermediate_size\": 3072,\n",
      "  \"layer_norm_eps\": 1e-12,\n",
      "  \"max_position_embeddings\": 512,\n",
      "  \"model_type\": \"bert\",\n",
      "  \"num_attention_heads\": 12,\n",
      "  \"num_hidden_layers\": 12,\n",
      "  \"pad_token_id\": 0,\n",
      "  \"position_embedding_type\": \"absolute\",\n",
      "  \"problem_type\": \"single_label_classification\",\n",
      "  \"torch_dtype\": \"float32\",\n",
      "  \"transformers_version\": \"4.16.2\",\n",
      "  \"type_vocab_size\": 2,\n",
      "  \"use_cache\": true,\n",
      "  \"vocab_size\": 30522\n",
      "}\n",
      "\n",
      "loading weights file models/checkpoint-100\\pytorch_model.bin\n",
      "All model checkpoint weights were used when initializing BertForSequenceClassification.\n",
      "\n",
      "All the weights of BertForSequenceClassification were initialized from the model checkpoint at models/checkpoint-100.\n",
      "If your task is similar to the task the model of the checkpoint was trained on, you can already use BertForSequenceClassification for predictions without further training.\n",
      "No `TrainingArguments` passed, using `output_dir=tmp_trainer`.\n",
      "PyTorch: setting up devices\n",
      "The default value for the training argument `--report_to` will change in v5 (from all installed integrations to none). In v5, you will need to use `--report_to all` to get the same behavior as now. You should start updating your code and make this info disappear :-).\n",
      "***** Running Prediction *****\n",
      "  Num examples = 500\n",
      "  Batch size = 8\n"
     ]
    },
    {
     "data": {
      "text/html": [
       "\n",
       "    <div>\n",
       "      \n",
       "      <progress value='126' max='63' style='width:300px; height:20px; vertical-align: middle;'></progress>\n",
       "      [63/63 49:51]\n",
       "    </div>\n",
       "    "
      ],
      "text/plain": [
       "<IPython.core.display.HTML object>"
      ]
     },
     "metadata": {},
     "output_type": "display_data"
    }
   ],
   "source": [
    "# Load test data\n",
    "X_test = list(sample_test[\"text\"])\n",
    "X_test_tokenized = tokenizer(X_test, padding=True, truncation=True, max_length=512)\n",
    "\n",
    "# Create torch dataset\n",
    "test_dataset = Dataset(X_test_tokenized)\n",
    "\n",
    "# Load trained model\n",
    "model_path = \"models/checkpoint-100\"\n",
    "model = BertForSequenceClassification.from_pretrained(model_path, num_labels=2)\n",
    "\n",
    "# Define test trainer\n",
    "test_trainer = Trainer(model)\n",
    "\n",
    "# Make prediction\n",
    "raw_pred, _, _ = test_trainer.predict(test_dataset)\n",
    "\n",
    "# Preprocess raw predictions\n",
    "y_pred = np.argmax(raw_pred, axis=1)"
   ]
  },
  {
   "cell_type": "code",
   "execution_count": 24,
   "id": "e36f3894-f435-458d-9f64-698381a14907",
   "metadata": {},
   "outputs": [
    {
     "name": "stderr",
     "output_type": "stream",
     "text": [
      "***** Running Prediction *****\n",
      "  Num examples = 500\n",
      "  Batch size = 8\n"
     ]
    },
    {
     "data": {
      "text/plain": [
       "PredictionOutput(predictions=array([[ 2.5915277 , -2.8180578 ],\n",
       "       [-3.1314318 ,  3.424375  ],\n",
       "       [-2.1773968 ,  2.9365819 ],\n",
       "       [ 2.479726  , -2.730634  ],\n",
       "       [ 2.481409  , -2.7030745 ],\n",
       "       [-3.1525311 ,  3.4099076 ],\n",
       "       [ 2.348072  , -2.502596  ],\n",
       "       [-3.1185207 ,  3.4339387 ],\n",
       "       [ 2.5526772 , -2.697667  ],\n",
       "       [-3.0807028 ,  3.4371524 ],\n",
       "       [-1.7129129 ,  2.4958978 ],\n",
       "       [-3.1470604 ,  3.4505847 ],\n",
       "       [ 2.5216742 , -2.7385416 ],\n",
       "       [ 2.5509362 , -2.7841692 ],\n",
       "       [-2.218339  ,  3.0091386 ],\n",
       "       [ 1.5561427 , -1.1083518 ],\n",
       "       [ 2.0564687 , -2.2415853 ],\n",
       "       [-3.0280337 ,  3.489244  ],\n",
       "       [-3.1441479 ,  3.382045  ],\n",
       "       [-2.9462106 ,  3.432065  ],\n",
       "       [-3.1117015 ,  3.4388866 ],\n",
       "       [-3.1034732 ,  3.4572303 ],\n",
       "       [-0.14592415,  0.8266036 ],\n",
       "       [-3.0158544 ,  3.4208426 ],\n",
       "       [-3.0334234 ,  3.3553014 ],\n",
       "       [-2.9727805 ,  3.447184  ],\n",
       "       [-2.913865  ,  3.4184837 ],\n",
       "       [-1.3277633 ,  1.9840732 ],\n",
       "       [-3.0598338 ,  3.414833  ],\n",
       "       [ 2.6192179 , -2.8235474 ],\n",
       "       [-2.8318994 ,  3.4042726 ],\n",
       "       [-3.0871863 ,  3.4785628 ],\n",
       "       [-3.1617064 ,  3.4399629 ],\n",
       "       [-3.1149578 ,  3.4312844 ],\n",
       "       [-3.0672903 ,  3.4613192 ],\n",
       "       [ 2.5026262 , -2.7058697 ],\n",
       "       [ 2.417019  , -2.5041852 ],\n",
       "       [ 2.2277625 , -2.492116  ],\n",
       "       [ 2.3299387 , -2.736462  ],\n",
       "       [ 2.485817  , -2.705791  ],\n",
       "       [ 2.6417706 , -2.8157382 ],\n",
       "       [-2.8529677 ,  3.3493323 ],\n",
       "       [-2.212773  ,  3.0115077 ],\n",
       "       [-3.13894   ,  3.4214518 ],\n",
       "       [ 2.4925573 , -2.7313418 ],\n",
       "       [ 2.5002882 , -2.7492688 ],\n",
       "       [ 2.55771   , -2.6780455 ],\n",
       "       [ 2.2761316 , -2.510197  ],\n",
       "       [-2.937031  ,  3.4656193 ],\n",
       "       [-1.3091583 ,  2.2117233 ],\n",
       "       [-2.9260979 ,  3.447177  ],\n",
       "       [ 1.7165217 , -1.2339478 ],\n",
       "       [ 2.1360116 , -2.0731177 ],\n",
       "       [ 2.5612426 , -2.8780138 ],\n",
       "       [-3.1644258 ,  3.3582864 ],\n",
       "       [-3.0793104 ,  3.3920443 ],\n",
       "       [-2.5935776 ,  3.2247045 ],\n",
       "       [ 2.451538  , -2.6698601 ],\n",
       "       [ 2.4459004 , -2.7009053 ],\n",
       "       [ 2.375043  , -2.3347144 ],\n",
       "       [-0.7172698 ,  1.3396599 ],\n",
       "       [-2.7275424 ,  3.3590646 ],\n",
       "       [-2.6625934 ,  3.2228794 ],\n",
       "       [-2.9947617 ,  3.4418054 ],\n",
       "       [ 2.4994338 , -2.605208  ],\n",
       "       [ 2.5125241 , -2.8738403 ],\n",
       "       [-2.2570124 ,  3.030162  ],\n",
       "       [-1.6372287 ,  2.4702518 ],\n",
       "       [ 2.4446156 , -2.6982782 ],\n",
       "       [ 2.6401603 , -2.7972605 ],\n",
       "       [-1.7995602 ,  2.6319394 ],\n",
       "       [ 2.3170414 , -2.5078065 ],\n",
       "       [-3.1250327 ,  3.4083796 ],\n",
       "       [ 2.221221  , -2.3539326 ],\n",
       "       [-2.6431115 ,  3.3879013 ],\n",
       "       [-2.975833  ,  3.3953385 ],\n",
       "       [ 2.389679  , -2.3032372 ],\n",
       "       [-2.8125596 ,  3.3713722 ],\n",
       "       [ 0.13400836,  0.34675652],\n",
       "       [ 2.6242962 , -2.8364558 ],\n",
       "       [-2.429948  ,  3.1365569 ],\n",
       "       [-2.8407805 ,  3.3992288 ],\n",
       "       [-0.6821011 ,  1.4819127 ],\n",
       "       [ 2.4704032 , -2.7747583 ],\n",
       "       [-3.0404434 ,  3.3348923 ],\n",
       "       [-2.0692692 ,  2.8605433 ],\n",
       "       [ 2.5623517 , -2.823044  ],\n",
       "       [-3.1029027 ,  3.3779564 ],\n",
       "       [-2.973707  ,  3.347633  ],\n",
       "       [ 2.5958788 , -2.8366017 ],\n",
       "       [ 2.4552896 , -2.6391816 ],\n",
       "       [-1.8538028 ,  2.6682892 ],\n",
       "       [-3.1243856 ,  3.3928895 ],\n",
       "       [ 2.5724518 , -2.6977665 ],\n",
       "       [-2.9361198 ,  3.4170737 ],\n",
       "       [-3.0679135 ,  3.4394083 ],\n",
       "       [ 2.446595  , -2.6741316 ],\n",
       "       [ 2.4685106 , -2.7516205 ],\n",
       "       [-3.1251664 ,  3.4062648 ],\n",
       "       [-0.52772635,  0.9020544 ],\n",
       "       [ 2.4411857 , -2.2934232 ],\n",
       "       [ 2.2472465 , -1.8776975 ],\n",
       "       [ 2.1876893 , -2.2066846 ],\n",
       "       [-1.7831604 ,  2.5948985 ],\n",
       "       [ 2.5522263 , -2.6906867 ],\n",
       "       [ 2.2954144 , -2.541935  ],\n",
       "       [ 2.5348945 , -2.69975   ],\n",
       "       [ 2.554366  , -2.7377758 ],\n",
       "       [ 2.5277953 , -2.7190897 ],\n",
       "       [-3.0184593 ,  3.446453  ],\n",
       "       [ 2.5359313 , -2.672103  ],\n",
       "       [-2.9640226 ,  3.4127078 ],\n",
       "       [ 2.5870621 , -2.6541743 ],\n",
       "       [-2.6716843 ,  3.291936  ],\n",
       "       [-3.15272   ,  3.4152694 ],\n",
       "       [-0.5105125 ,  1.1480738 ],\n",
       "       [ 2.4260654 , -2.6566324 ],\n",
       "       [ 2.8348503 , -2.9455876 ],\n",
       "       [ 2.523581  , -2.7735345 ],\n",
       "       [-1.8045666 ,  2.4617422 ],\n",
       "       [ 2.6922636 , -3.0186915 ],\n",
       "       [-2.3552442 ,  3.0304308 ],\n",
       "       [ 2.6198723 , -2.7207947 ],\n",
       "       [ 2.4630003 , -2.65088   ],\n",
       "       [ 2.596334  , -2.804045  ],\n",
       "       [ 2.6071677 , -2.8232052 ],\n",
       "       [ 2.5970745 , -2.8727026 ],\n",
       "       [ 2.6334302 , -2.860557  ],\n",
       "       [ 2.4926064 , -2.7120438 ],\n",
       "       [-3.1555612 ,  3.41987   ],\n",
       "       [ 2.6501794 , -2.8974824 ],\n",
       "       [ 2.1035678 , -2.1695154 ],\n",
       "       [ 2.2165923 , -2.4523482 ],\n",
       "       [-3.0903826 ,  3.4026432 ],\n",
       "       [ 2.5238957 , -2.6330297 ],\n",
       "       [-3.0050967 ,  3.459797  ],\n",
       "       [-2.2415192 ,  3.035616  ],\n",
       "       [ 2.5656528 , -2.741147  ],\n",
       "       [ 2.5960429 , -2.7064896 ],\n",
       "       [ 2.6249976 , -2.772933  ],\n",
       "       [ 2.6352806 , -2.8595343 ],\n",
       "       [-2.3102398 ,  3.0357113 ],\n",
       "       [-2.5137732 ,  3.1844559 ],\n",
       "       [ 2.382152  , -2.4979792 ],\n",
       "       [-3.1074207 ,  3.4498801 ],\n",
       "       [-2.9260907 ,  3.4800687 ],\n",
       "       [-3.074988  ,  3.4339252 ],\n",
       "       [-2.9639904 ,  3.4145436 ],\n",
       "       [ 2.7324696 , -2.8613162 ],\n",
       "       [-2.3821793 ,  3.154975  ],\n",
       "       [-2.868664  ,  3.3671618 ],\n",
       "       [ 2.5184727 , -2.6758623 ],\n",
       "       [-3.0846524 ,  3.471346  ],\n",
       "       [ 2.5589795 , -2.6775045 ],\n",
       "       [-2.7807894 ,  3.397564  ],\n",
       "       [ 2.443231  , -2.774759  ],\n",
       "       [ 2.516626  , -2.80839   ],\n",
       "       [ 2.5803497 , -2.7616935 ],\n",
       "       [-3.063567  ,  3.392454  ],\n",
       "       [ 2.4305477 , -2.8186083 ],\n",
       "       [-3.0615106 ,  3.460892  ],\n",
       "       [ 2.675774  , -2.7377622 ],\n",
       "       [-3.0819774 ,  3.4665287 ],\n",
       "       [ 2.7016299 , -2.9146268 ],\n",
       "       [ 2.5821068 , -2.7241054 ],\n",
       "       [ 2.4006386 , -2.6869352 ],\n",
       "       [ 2.6001816 , -2.8527656 ],\n",
       "       [-2.3899975 ,  3.1159425 ],\n",
       "       [ 2.5031242 , -2.6424308 ],\n",
       "       [-3.0505514 ,  3.364971  ],\n",
       "       [-2.9148045 ,  3.4642878 ],\n",
       "       [-2.830481  ,  3.3932157 ],\n",
       "       [ 1.424181  , -1.0548875 ],\n",
       "       [ 2.4946256 , -2.7842054 ],\n",
       "       [ 2.6559315 , -2.743506  ],\n",
       "       [ 2.5537715 , -2.760714  ],\n",
       "       [-2.2756824 ,  2.7611446 ],\n",
       "       [-2.9498897 ,  3.3494906 ],\n",
       "       [ 2.435951  , -2.6312485 ],\n",
       "       [-3.0693464 ,  3.4218082 ],\n",
       "       [-1.5843667 ,  2.4666896 ],\n",
       "       [-3.0998764 ,  3.426285  ],\n",
       "       [ 2.5053568 , -2.7283897 ],\n",
       "       [-3.0522485 ,  3.4195108 ],\n",
       "       [ 2.508456  , -2.8046927 ],\n",
       "       [-3.0768604 ,  3.4108899 ],\n",
       "       [-0.3876024 ,  1.1578515 ],\n",
       "       [ 1.7574679 , -1.2338    ],\n",
       "       [-3.0106287 ,  3.3929496 ],\n",
       "       [-2.8633301 ,  3.4012814 ],\n",
       "       [-3.057846  ,  3.3987255 ],\n",
       "       [-3.1171412 ,  3.444872  ],\n",
       "       [-2.7518907 ,  3.3152785 ],\n",
       "       [-2.8168802 ,  3.3836286 ],\n",
       "       [-1.574162  ,  2.4466443 ],\n",
       "       [ 2.62292   , -2.7979898 ],\n",
       "       [ 2.4841752 , -2.6808712 ],\n",
       "       [ 2.4772856 , -2.7182102 ],\n",
       "       [ 2.4347193 , -2.628992  ],\n",
       "       [ 2.6798835 , -2.8943386 ],\n",
       "       [-3.0634313 ,  3.4083035 ],\n",
       "       [-2.7289624 ,  3.3576841 ],\n",
       "       [-1.9619623 ,  2.7846556 ],\n",
       "       [-2.494345  ,  3.2326493 ],\n",
       "       [-3.0794082 ,  3.4488122 ],\n",
       "       [-2.5172088 ,  3.1685996 ],\n",
       "       [-2.614646  ,  3.3281226 ],\n",
       "       [-3.1504688 ,  3.428391  ],\n",
       "       [-3.0997913 ,  3.42631   ],\n",
       "       [-2.7457418 ,  3.3823764 ],\n",
       "       [ 2.6661174 , -2.8161066 ],\n",
       "       [-2.940691  ,  3.412631  ],\n",
       "       [ 2.5253518 , -2.7531838 ],\n",
       "       [ 1.676456  , -1.3039976 ],\n",
       "       [ 2.431529  , -2.710679  ],\n",
       "       [-1.1619605 ,  1.6399308 ],\n",
       "       [-3.0888648 ,  3.416934  ],\n",
       "       [ 2.5453248 , -2.6341183 ],\n",
       "       [-3.1525903 ,  3.4046314 ],\n",
       "       [-1.9299701 ,  2.558537  ],\n",
       "       [-2.0598397 ,  2.8711762 ],\n",
       "       [ 2.6679664 , -2.8198    ],\n",
       "       [ 1.8669121 , -2.1126475 ],\n",
       "       [-2.33493   ,  3.1355817 ],\n",
       "       [ 2.5779858 , -2.8373718 ],\n",
       "       [ 2.6070461 , -2.8074534 ],\n",
       "       [ 2.5050077 , -2.567842  ],\n",
       "       [ 2.5441144 , -2.7262483 ],\n",
       "       [ 2.5647507 , -2.7025566 ],\n",
       "       [ 2.5991492 , -2.7683992 ],\n",
       "       [ 2.5812266 , -2.8156738 ],\n",
       "       [-3.127807  ,  3.3800433 ],\n",
       "       [-3.1307259 ,  3.4517422 ],\n",
       "       [ 2.4623914 , -2.6311953 ],\n",
       "       [-2.7567453 ,  3.2685819 ],\n",
       "       [ 2.422516  , -2.518943  ],\n",
       "       [-1.8396137 ,  2.6725824 ],\n",
       "       [-3.1357186 ,  3.4267995 ],\n",
       "       [-3.1399825 ,  3.3986154 ],\n",
       "       [ 2.5430336 , -2.7649422 ],\n",
       "       [-3.1327777 ,  3.3922668 ],\n",
       "       [-3.0008392 ,  3.4400377 ],\n",
       "       [-2.9434385 ,  3.4449744 ],\n",
       "       [ 2.6646667 , -2.7188416 ],\n",
       "       [-3.0856004 ,  3.4620368 ],\n",
       "       [ 2.6123426 , -2.6545227 ],\n",
       "       [ 2.3324814 , -2.5502443 ],\n",
       "       [ 2.593408  , -2.865466  ],\n",
       "       [ 2.4839654 , -2.9026496 ],\n",
       "       [ 0.15564428,  0.532116  ],\n",
       "       [ 2.4092386 , -2.6936564 ],\n",
       "       [-3.1591606 ,  3.4281409 ],\n",
       "       [ 1.4954243 , -1.3758091 ],\n",
       "       [ 2.3969233 , -2.6745832 ],\n",
       "       [ 2.4790277 , -2.611706  ],\n",
       "       [-2.6996992 ,  3.2701883 ],\n",
       "       [-1.5743773 ,  2.2571633 ],\n",
       "       [ 2.4363608 , -2.6870213 ],\n",
       "       [-3.1136165 ,  3.4101992 ],\n",
       "       [-3.0632057 ,  3.4027128 ],\n",
       "       [ 2.4694057 , -2.727016  ],\n",
       "       [ 2.5396335 , -2.7294445 ],\n",
       "       [ 2.511971  , -2.811623  ],\n",
       "       [-2.973397  ,  3.4215033 ],\n",
       "       [-3.1219292 ,  3.4669905 ],\n",
       "       [ 2.4616795 , -2.7293372 ],\n",
       "       [ 2.4722848 , -2.6658826 ],\n",
       "       [-3.08187   ,  3.4302127 ],\n",
       "       [-2.0266383 ,  2.7043343 ],\n",
       "       [ 2.61837   , -2.8636246 ],\n",
       "       [ 2.4833212 , -2.7824519 ],\n",
       "       [ 2.6251483 , -2.7485642 ],\n",
       "       [-2.8832407 ,  3.3990517 ],\n",
       "       [-3.1519203 ,  3.4610186 ],\n",
       "       [-2.8979475 ,  3.4040895 ],\n",
       "       [-2.7527113 ,  3.2649157 ],\n",
       "       [ 2.3647997 , -2.6150308 ],\n",
       "       [-1.5093737 ,  2.3822317 ],\n",
       "       [ 2.4868512 , -2.6655335 ],\n",
       "       [-3.1265259 ,  3.433112  ],\n",
       "       [-3.1514764 ,  3.4217043 ],\n",
       "       [-2.4821212 ,  3.0787187 ],\n",
       "       [-2.9142325 ,  3.3863091 ],\n",
       "       [-3.1403303 ,  3.4200215 ],\n",
       "       [-2.8682318 ,  3.4292312 ],\n",
       "       [-3.0700684 ,  3.4391098 ],\n",
       "       [-3.0243359 ,  3.4735336 ],\n",
       "       [ 2.6028929 , -2.830484  ],\n",
       "       [-2.6703553 ,  3.2915218 ],\n",
       "       [ 2.650205  , -2.8241606 ],\n",
       "       [ 2.5206099 , -2.7370324 ],\n",
       "       [ 2.2527757 , -2.5638127 ],\n",
       "       [ 2.5940652 , -2.8613195 ],\n",
       "       [-3.0101194 ,  3.4412344 ],\n",
       "       [-3.1037414 ,  3.3544621 ],\n",
       "       [-3.1164746 ,  3.4526286 ],\n",
       "       [ 2.4503942 , -2.6512632 ],\n",
       "       [ 1.7935416 , -1.9999493 ],\n",
       "       [ 2.4721718 , -2.6582131 ],\n",
       "       [ 2.4674156 , -2.719532  ],\n",
       "       [-3.094121  ,  3.404336  ],\n",
       "       [-3.074705  ,  3.4279258 ],\n",
       "       [ 1.6349121 , -1.2608488 ],\n",
       "       [-3.0100803 ,  3.383848  ],\n",
       "       [ 2.5730686 , -2.7815266 ],\n",
       "       [-2.92563   ,  3.457603  ],\n",
       "       [ 2.4947333 , -2.5836902 ],\n",
       "       [-2.5133133 ,  3.1330369 ],\n",
       "       [ 2.4931405 , -2.717172  ],\n",
       "       [-2.6860633 ,  3.3620229 ],\n",
       "       [-3.1142817 ,  3.4202847 ],\n",
       "       [-0.94399214,  1.6470165 ],\n",
       "       [-2.7557008 ,  3.367146  ],\n",
       "       [-1.5737019 ,  2.332107  ],\n",
       "       [ 2.492488  , -2.802628  ],\n",
       "       [-3.0585532 ,  3.492697  ],\n",
       "       [ 2.559391  , -2.8462348 ],\n",
       "       [ 2.5324278 , -2.8017945 ],\n",
       "       [-3.10922   ,  3.409451  ],\n",
       "       [-2.641814  ,  3.2100062 ],\n",
       "       [-2.9427195 ,  3.3516161 ],\n",
       "       [ 2.7188344 , -2.8153071 ],\n",
       "       [-3.073854  ,  3.4568882 ],\n",
       "       [-0.77393043,  1.5242658 ],\n",
       "       [-3.060174  ,  3.4528031 ],\n",
       "       [-2.994851  ,  3.4393978 ],\n",
       "       [ 2.3454447 , -1.9758885 ],\n",
       "       [ 2.614193  , -2.766449  ],\n",
       "       [ 2.3885412 , -2.57253   ],\n",
       "       [-2.6999235 ,  3.3097308 ],\n",
       "       [-3.0553067 ,  3.3934283 ],\n",
       "       [ 2.4943988 , -2.8194923 ],\n",
       "       [ 2.1663344 , -2.3356886 ],\n",
       "       [-3.015502  ,  3.4821608 ],\n",
       "       [ 2.5167077 , -2.7136931 ],\n",
       "       [ 2.077077  , -2.3917398 ],\n",
       "       [-3.1450968 ,  3.427026  ],\n",
       "       [-2.2929316 ,  2.9743397 ],\n",
       "       [ 2.5057049 , -2.684474  ],\n",
       "       [ 2.5624638 , -2.7779117 ],\n",
       "       [-3.148191  ,  3.4186015 ],\n",
       "       [-2.8013892 ,  3.374112  ],\n",
       "       [-3.0292115 ,  3.475847  ],\n",
       "       [ 2.5091853 , -2.6539507 ],\n",
       "       [ 2.4459453 , -2.6969357 ],\n",
       "       [-3.1113193 ,  3.4243174 ],\n",
       "       [-2.6960301 ,  3.2537565 ],\n",
       "       [ 2.0674028 , -1.849781  ],\n",
       "       [ 2.379606  , -2.6819906 ],\n",
       "       [-3.132829  ,  3.397306  ],\n",
       "       [ 2.4076133 , -2.6711287 ],\n",
       "       [-2.9587216 ,  3.4152246 ],\n",
       "       [ 2.4159236 , -2.6390057 ],\n",
       "       [ 2.6736867 , -2.7171888 ],\n",
       "       [-3.0790765 ,  3.4150875 ],\n",
       "       [-2.6561165 ,  3.3631797 ],\n",
       "       [-3.1001096 ,  3.4372966 ],\n",
       "       [-3.1293876 ,  3.4025702 ],\n",
       "       [ 2.5264535 , -2.786779  ],\n",
       "       [ 1.5163364 , -1.2741885 ],\n",
       "       [ 2.342991  , -2.2854226 ],\n",
       "       [-2.9711947 ,  3.4493523 ],\n",
       "       [ 1.9197366 , -1.7439866 ],\n",
       "       [-2.0711172 ,  2.859438  ],\n",
       "       [ 2.2395244 , -2.6198378 ],\n",
       "       [-3.022005  ,  3.4231582 ],\n",
       "       [-2.4538066 ,  3.1932025 ],\n",
       "       [ 2.1951892 , -2.2174675 ],\n",
       "       [-3.0142882 ,  3.4177563 ],\n",
       "       [-1.4491684 ,  2.2264354 ],\n",
       "       [-3.084686  ,  3.421604  ],\n",
       "       [-3.0653076 ,  3.4511876 ],\n",
       "       [-2.6065068 ,  3.2241507 ],\n",
       "       [-3.0461385 ,  3.4382195 ],\n",
       "       [ 2.426392  , -2.6207376 ],\n",
       "       [ 1.660861  , -1.4335856 ],\n",
       "       [ 2.5654054 , -2.738371  ],\n",
       "       [ 2.5841975 , -2.8485634 ],\n",
       "       [ 2.4740562 , -2.753475  ],\n",
       "       [ 2.5098867 , -2.7399879 ],\n",
       "       [ 2.672026  , -2.760854  ],\n",
       "       [ 2.490808  , -2.8371375 ],\n",
       "       [ 0.97751546, -0.4971373 ],\n",
       "       [-3.1007755 ,  3.3953118 ],\n",
       "       [ 2.4071887 , -2.6151218 ],\n",
       "       [-1.4924345 ,  2.3393736 ],\n",
       "       [-3.1592782 ,  3.4399607 ],\n",
       "       [ 2.4221096 , -2.6069002 ],\n",
       "       [ 2.2952003 , -2.7098362 ],\n",
       "       [ 2.524599  , -2.7154176 ],\n",
       "       [-3.1511984 ,  3.36099   ],\n",
       "       [-2.7083693 ,  3.3551233 ],\n",
       "       [-3.000094  ,  3.3994048 ],\n",
       "       [-3.1303067 ,  3.4159455 ],\n",
       "       [-2.545187  ,  3.115168  ],\n",
       "       [-2.3632011 ,  3.1538308 ],\n",
       "       [-2.953867  ,  3.4429033 ],\n",
       "       [ 2.5392385 , -2.736799  ],\n",
       "       [ 2.1986275 , -1.9166355 ],\n",
       "       [ 2.4614263 , -2.6494064 ],\n",
       "       [-2.8531032 ,  3.3182175 ],\n",
       "       [-3.0741012 ,  3.3930745 ],\n",
       "       [-3.0097332 ,  3.488332  ],\n",
       "       [ 2.6019292 , -2.688818  ],\n",
       "       [-3.0848947 ,  3.476775  ],\n",
       "       [-2.9131913 ,  3.3961356 ],\n",
       "       [ 2.4188304 , -2.7262273 ],\n",
       "       [ 2.5050695 , -2.8185105 ],\n",
       "       [ 2.5649595 , -2.7482214 ],\n",
       "       [ 2.4209855 , -2.6170297 ],\n",
       "       [-1.9101915 ,  2.7339196 ],\n",
       "       [ 2.4636266 , -2.6620939 ],\n",
       "       [ 2.5962474 , -2.7551687 ],\n",
       "       [-2.370041  ,  3.064259  ],\n",
       "       [ 2.4567115 , -2.7199779 ],\n",
       "       [ 2.70038   , -2.706796  ],\n",
       "       [-3.0756755 ,  3.4386113 ],\n",
       "       [ 2.5054674 , -2.6615725 ],\n",
       "       [-3.0703866 ,  3.4666057 ],\n",
       "       [-2.6770182 ,  3.2016718 ],\n",
       "       [-3.1500726 ,  3.39095   ],\n",
       "       [ 2.4498491 , -2.6686928 ],\n",
       "       [ 2.606583  , -2.7686882 ],\n",
       "       [ 2.403526  , -2.708505  ],\n",
       "       [ 2.5915475 , -2.7876005 ],\n",
       "       [ 0.34868315, -0.09906127],\n",
       "       [ 2.1654599 , -2.4073627 ],\n",
       "       [-3.0317125 ,  3.428093  ],\n",
       "       [ 2.6109276 , -2.5517025 ],\n",
       "       [ 2.5165467 , -2.7791133 ],\n",
       "       [ 2.662086  , -2.8546112 ],\n",
       "       [-3.131061  ,  3.4028082 ],\n",
       "       [ 2.2995129 , -2.5390735 ],\n",
       "       [ 2.6395726 , -2.844779  ],\n",
       "       [-3.1048307 ,  3.4468055 ],\n",
       "       [ 2.5806344 , -2.7967043 ],\n",
       "       [-3.1036763 ,  3.4483833 ],\n",
       "       [ 2.5178125 , -2.7156978 ],\n",
       "       [-2.9185255 ,  3.4011831 ],\n",
       "       [-3.0723667 ,  3.4529958 ],\n",
       "       [ 1.8120749 , -2.0424647 ],\n",
       "       [ 2.557598  , -2.7377691 ],\n",
       "       [ 2.381447  , -2.2551856 ],\n",
       "       [-2.9432511 ,  3.4572067 ],\n",
       "       [ 1.765062  , -1.503492  ],\n",
       "       [ 2.1886406 , -2.531513  ],\n",
       "       [ 2.6621785 , -2.8605955 ],\n",
       "       [ 2.5122852 , -2.4008312 ],\n",
       "       [ 2.4795794 , -2.6560779 ],\n",
       "       [ 2.4918642 , -2.8506432 ],\n",
       "       [ 2.2377534 , -2.2681155 ],\n",
       "       [-1.1046953 ,  1.9002546 ],\n",
       "       [ 2.5465002 , -2.8320217 ],\n",
       "       [-2.51193   ,  3.215064  ],\n",
       "       [-0.4845632 ,  1.043033  ],\n",
       "       [ 2.547343  , -2.8212473 ],\n",
       "       [ 1.9616606 , -1.8842201 ],\n",
       "       [-3.0507307 ,  3.4605503 ],\n",
       "       [ 2.5430107 , -2.843175  ],\n",
       "       [-2.9855957 ,  3.3908439 ],\n",
       "       [-2.5334456 ,  3.2035255 ],\n",
       "       [-2.3466187 ,  3.008412  ],\n",
       "       [ 2.5579116 , -2.7472634 ],\n",
       "       [ 2.6228652 , -2.8110561 ],\n",
       "       [ 2.5416417 , -2.790234  ],\n",
       "       [-3.1194782 ,  3.414198  ],\n",
       "       [ 2.4437766 , -2.5116885 ],\n",
       "       [-3.1646223 ,  3.4143353 ],\n",
       "       [-3.0985742 ,  3.4507673 ],\n",
       "       [-3.0593653 ,  3.338924  ],\n",
       "       [-2.763122  ,  3.3705812 ],\n",
       "       [-0.9087799 ,  1.5688694 ],\n",
       "       [ 2.366559  , -2.545001  ],\n",
       "       [ 2.5344596 , -2.8204956 ],\n",
       "       [ 2.5245137 , -2.7574625 ],\n",
       "       [-1.9133983 ,  2.6696222 ],\n",
       "       [-3.044997  ,  3.3851337 ],\n",
       "       [-3.0158095 ,  3.437788  ],\n",
       "       [ 2.3084936 , -2.5589843 ],\n",
       "       [-2.776821  ,  3.3244388 ],\n",
       "       [ 2.5892978 , -2.8091576 ],\n",
       "       [-3.0593429 ,  3.419457  ],\n",
       "       [ 2.5572252 , -2.769927  ],\n",
       "       [ 2.6297293 , -2.7214165 ],\n",
       "       [ 2.5439677 , -2.8491416 ],\n",
       "       [ 1.7367893 , -1.7086372 ],\n",
       "       [-3.1756501 ,  3.3908067 ],\n",
       "       [ 2.5803745 , -2.754212  ],\n",
       "       [ 2.4847941 , -2.8791957 ],\n",
       "       [-1.4721798 ,  2.0701907 ],\n",
       "       [-2.7270823 ,  3.3772922 ],\n",
       "       [ 1.6313779 , -1.5878589 ],\n",
       "       [ 2.3370824 , -2.7313128 ],\n",
       "       [-3.0587296 ,  3.461302  ],\n",
       "       [-3.0934427 ,  3.443963  ],\n",
       "       [-2.7632604 ,  3.386322  ],\n",
       "       [-1.997123  ,  2.81883   ],\n",
       "       [-3.1131983 ,  3.4777462 ],\n",
       "       [ 2.4576833 , -2.5832756 ],\n",
       "       [-2.876996  ,  3.463769  ]], dtype=float32), label_ids=None, metrics={'test_runtime': 586.684, 'test_samples_per_second': 0.852, 'test_steps_per_second': 0.107})"
      ]
     },
     "execution_count": 24,
     "metadata": {},
     "output_type": "execute_result"
    }
   ],
   "source": [
    "test_trainer.predict(test_dataset)"
   ]
  },
  {
   "cell_type": "code",
   "execution_count": null,
   "id": "b8b5370b-8cf4-4ec3-9992-1bf09bf263de",
   "metadata": {},
   "outputs": [],
   "source": []
  }
 ],
 "metadata": {
  "kernelspec": {
   "display_name": "Python 3 (ipykernel)",
   "language": "python",
   "name": "python3"
  },
  "language_info": {
   "codemirror_mode": {
    "name": "ipython",
    "version": 3
   },
   "file_extension": ".py",
   "mimetype": "text/x-python",
   "name": "python",
   "nbconvert_exporter": "python",
   "pygments_lexer": "ipython3",
   "version": "3.7.12"
  }
 },
 "nbformat": 4,
 "nbformat_minor": 5
}
